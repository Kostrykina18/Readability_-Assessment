{
  "cells": [
    {
      "cell_type": "markdown",
      "source": [
        "When use xlm-roberta. Restart the runtime after installing"
      ],
      "metadata": {
        "id": "htZXfkGllRkO"
      }
    },
    {
      "cell_type": "code",
      "source": [
        "! pip install sentencepiece"
      ],
      "metadata": {
        "colab": {
          "base_uri": "https://localhost:8080/"
        },
        "id": "dOrKL3BsAx7w",
        "outputId": "76aeb4bd-6f69-4db2-a37f-ec79d27c0f17"
      },
      "execution_count": null,
      "outputs": [
        {
          "output_type": "stream",
          "name": "stdout",
          "text": [
            "Looking in indexes: https://pypi.org/simple, https://us-python.pkg.dev/colab-wheels/public/simple/\n",
            "Collecting sentencepiece\n",
            "  Downloading sentencepiece-0.1.98-cp39-cp39-manylinux_2_17_x86_64.manylinux2014_x86_64.whl (1.3 MB)\n",
            "\u001b[2K     \u001b[90m━━━━━━━━━━━━━━━━━━━━━━━━━━━━━━━━━━━━━━━━\u001b[0m \u001b[32m1.3/1.3 MB\u001b[0m \u001b[31m10.6 MB/s\u001b[0m eta \u001b[36m0:00:00\u001b[0m\n",
            "\u001b[?25hInstalling collected packages: sentencepiece\n",
            "Successfully installed sentencepiece-0.1.98\n"
          ]
        }
      ]
    },
    {
      "cell_type": "code",
      "source": [
        "!pip install transformers"
      ],
      "metadata": {
        "colab": {
          "base_uri": "https://localhost:8080/"
        },
        "id": "ON3Ut6rX4M6K",
        "outputId": "9a0567c0-89dc-4af0-bfb7-3309179c1c31"
      },
      "execution_count": 1,
      "outputs": [
        {
          "output_type": "stream",
          "name": "stdout",
          "text": [
            "Looking in indexes: https://pypi.org/simple, https://us-python.pkg.dev/colab-wheels/public/simple/\n",
            "Collecting transformers\n",
            "  Downloading transformers-4.29.0-py3-none-any.whl (7.1 MB)\n",
            "\u001b[2K     \u001b[90m━━━━━━━━━━━━━━━━━━━━━━━━━━━━━━━━━━━━━━━━\u001b[0m \u001b[32m7.1/7.1 MB\u001b[0m \u001b[31m40.6 MB/s\u001b[0m eta \u001b[36m0:00:00\u001b[0m\n",
            "\u001b[?25hRequirement already satisfied: filelock in /usr/local/lib/python3.10/dist-packages (from transformers) (3.12.0)\n",
            "Collecting huggingface-hub<1.0,>=0.11.0 (from transformers)\n",
            "  Downloading huggingface_hub-0.14.1-py3-none-any.whl (224 kB)\n",
            "\u001b[2K     \u001b[90m━━━━━━━━━━━━━━━━━━━━━━━━━━━━━━━━━━━━━━\u001b[0m \u001b[32m224.5/224.5 kB\u001b[0m \u001b[31m20.3 MB/s\u001b[0m eta \u001b[36m0:00:00\u001b[0m\n",
            "\u001b[?25hRequirement already satisfied: numpy>=1.17 in /usr/local/lib/python3.10/dist-packages (from transformers) (1.22.4)\n",
            "Requirement already satisfied: packaging>=20.0 in /usr/local/lib/python3.10/dist-packages (from transformers) (23.1)\n",
            "Requirement already satisfied: pyyaml>=5.1 in /usr/local/lib/python3.10/dist-packages (from transformers) (6.0)\n",
            "Requirement already satisfied: regex!=2019.12.17 in /usr/local/lib/python3.10/dist-packages (from transformers) (2022.10.31)\n",
            "Requirement already satisfied: requests in /usr/local/lib/python3.10/dist-packages (from transformers) (2.27.1)\n",
            "Collecting tokenizers!=0.11.3,<0.14,>=0.11.1 (from transformers)\n",
            "  Downloading tokenizers-0.13.3-cp310-cp310-manylinux_2_17_x86_64.manylinux2014_x86_64.whl (7.8 MB)\n",
            "\u001b[2K     \u001b[90m━━━━━━━━━━━━━━━━━━━━━━━━━━━━━━━━━━━━━━━━\u001b[0m \u001b[32m7.8/7.8 MB\u001b[0m \u001b[31m72.3 MB/s\u001b[0m eta \u001b[36m0:00:00\u001b[0m\n",
            "\u001b[?25hRequirement already satisfied: tqdm>=4.27 in /usr/local/lib/python3.10/dist-packages (from transformers) (4.65.0)\n",
            "Requirement already satisfied: fsspec in /usr/local/lib/python3.10/dist-packages (from huggingface-hub<1.0,>=0.11.0->transformers) (2023.4.0)\n",
            "Requirement already satisfied: typing-extensions>=3.7.4.3 in /usr/local/lib/python3.10/dist-packages (from huggingface-hub<1.0,>=0.11.0->transformers) (4.5.0)\n",
            "Requirement already satisfied: urllib3<1.27,>=1.21.1 in /usr/local/lib/python3.10/dist-packages (from requests->transformers) (1.26.15)\n",
            "Requirement already satisfied: certifi>=2017.4.17 in /usr/local/lib/python3.10/dist-packages (from requests->transformers) (2022.12.7)\n",
            "Requirement already satisfied: charset-normalizer~=2.0.0 in /usr/local/lib/python3.10/dist-packages (from requests->transformers) (2.0.12)\n",
            "Requirement already satisfied: idna<4,>=2.5 in /usr/local/lib/python3.10/dist-packages (from requests->transformers) (3.4)\n",
            "Installing collected packages: tokenizers, huggingface-hub, transformers\n",
            "Successfully installed huggingface-hub-0.14.1 tokenizers-0.13.3 transformers-4.29.0\n"
          ]
        }
      ]
    },
    {
      "cell_type": "code",
      "execution_count": 2,
      "metadata": {
        "id": "DG1gJZvMbWiF",
        "colab": {
          "base_uri": "https://localhost:8080/"
        },
        "outputId": "2effde4b-0422-4c54-9e4d-e640a4b7a608"
      },
      "outputs": [
        {
          "output_type": "stream",
          "name": "stderr",
          "text": [
            "<ipython-input-2-4b184e2fc1c1>:27: TqdmDeprecationWarning: This function will be removed in tqdm==5.0.0\n",
            "Please use `tqdm.notebook.*` instead of `tqdm._tqdm_notebook.*`\n",
            "  from tqdm._tqdm_notebook import tqdm_notebook\n"
          ]
        }
      ],
      "source": [
        "import re\n",
        "import random\n",
        "import numpy as np\n",
        "import pandas as pd\n",
        "\n",
        "import spacy \n",
        "\n",
        "import torch\n",
        "import torch.nn as nn\n",
        "from torch.utils.data import TensorDataset, Dataset, DataLoader, RandomSampler, SequentialSampler\n",
        "import torch.nn.functional as F\n",
        "from transformers import BertTokenizer,BertModel, BertForSequenceClassification, AdamW, get_linear_schedule_with_warmup\n",
        "from transformers import XLMRobertaConfig, XLMRobertaModel, XLMRobertaTokenizer\n",
        "from transformers import AutoModel, AutoTokenizer \n",
        "\n",
        "from sklearn.model_selection import train_test_split\n",
        "from collections import defaultdict\n",
        "\n",
        "from sklearn.metrics import confusion_matrix, classification_report,precision_score,accuracy_score,f1_score\n",
        "\n",
        "import logging \n",
        "logging.basicConfig(level = logging.ERROR)\n",
        "\n",
        "\n",
        "\n",
        "\n",
        "from tqdm._tqdm_notebook import tqdm_notebook\n",
        "tqdm_notebook.pandas()"
      ]
    },
    {
      "cell_type": "code",
      "source": [
        "import warnings\n",
        "warnings.filterwarnings(\"ignore\")"
      ],
      "metadata": {
        "id": "X_-fYu0SVt5O"
      },
      "execution_count": 3,
      "outputs": []
    },
    {
      "cell_type": "code",
      "source": [
        "#model_name = 'bert-base-multilingual-uncased'\n",
        "model_name = 'bert-base-uncased'\n",
        "#model_name = 'xlm-roberta-base'"
      ],
      "metadata": {
        "id": "OcX81wF5noeb"
      },
      "execution_count": 4,
      "outputs": []
    },
    {
      "cell_type": "markdown",
      "source": [
        "OneStopEnglishCorpus"
      ],
      "metadata": {
        "id": "PznYfs08lqZn"
      }
    },
    {
      "cell_type": "code",
      "execution_count": null,
      "metadata": {
        "id": "b0HdZ8KmZ1XY"
      },
      "outputs": [],
      "source": [
        "#!pip install datasets\n",
        "#from datasets import load_dataset\n",
        "\n",
        "#dataset = load_dataset(\"onestop_english\")"
      ]
    },
    {
      "cell_type": "markdown",
      "source": [
        "VikiWiki"
      ],
      "metadata": {
        "id": "q8k-Ipm5lokd"
      }
    },
    {
      "cell_type": "code",
      "source": [
        "import locale\n",
        "def getpreferredencoding(do_setlocale = True):\n",
        "    return \"UTF-8\"\n",
        "locale.getpreferredencoding = getpreferredencoding"
      ],
      "metadata": {
        "id": "Z_8yZU-xsWK_"
      },
      "execution_count": null,
      "outputs": []
    },
    {
      "cell_type": "code",
      "source": [
        "!wget https://www.dropbox.com/s/bmov3bgxv53lpu4/all_lang.csv?dl=0 -O all_lang.csv"
      ],
      "metadata": {
        "colab": {
          "base_uri": "https://localhost:8080/"
        },
        "id": "DsJhUPOZjDsa",
        "outputId": "978b1a2d-ffc1-4ca8-88b1-845ed3400f1c"
      },
      "execution_count": null,
      "outputs": [
        {
          "output_type": "stream",
          "name": "stdout",
          "text": [
            "--2023-04-18 09:41:47--  https://www.dropbox.com/s/bmov3bgxv53lpu4/all_lang.csv?dl=0\n",
            "Resolving www.dropbox.com (www.dropbox.com)... 162.125.5.18, 2620:100:601d:18::a27d:512\n",
            "Connecting to www.dropbox.com (www.dropbox.com)|162.125.5.18|:443... connected.\n",
            "HTTP request sent, awaiting response... 302 Found\n",
            "Location: /s/raw/bmov3bgxv53lpu4/all_lang.csv [following]\n",
            "--2023-04-18 09:41:48--  https://www.dropbox.com/s/raw/bmov3bgxv53lpu4/all_lang.csv\n",
            "Reusing existing connection to www.dropbox.com:443.\n",
            "HTTP request sent, awaiting response... 302 Found\n",
            "Location: https://uc1fd101df4d97ac6321bb6fb9cb.dl.dropboxusercontent.com/cd/0/inline/B6ZDEkQnGURbfPIbg9xmQZYl7Kfd7SDRjqNhSwIQnmm9nvLY_Hp-nN9bhosPdHWx8hWeX87LaXTSOA2wLnsf9e3sq6KTxy8F4PkQv2P0lxPLyw0Mk11-5nPg2JD5Z8L4I3__Y2vMwYNik7TGJ8QVK2R-0hYZ1RffnurAepEzbdh3hA/file# [following]\n",
            "--2023-04-18 09:41:48--  https://uc1fd101df4d97ac6321bb6fb9cb.dl.dropboxusercontent.com/cd/0/inline/B6ZDEkQnGURbfPIbg9xmQZYl7Kfd7SDRjqNhSwIQnmm9nvLY_Hp-nN9bhosPdHWx8hWeX87LaXTSOA2wLnsf9e3sq6KTxy8F4PkQv2P0lxPLyw0Mk11-5nPg2JD5Z8L4I3__Y2vMwYNik7TGJ8QVK2R-0hYZ1RffnurAepEzbdh3hA/file\n",
            "Resolving uc1fd101df4d97ac6321bb6fb9cb.dl.dropboxusercontent.com (uc1fd101df4d97ac6321bb6fb9cb.dl.dropboxusercontent.com)... 162.125.5.15, 2620:100:601d:15::a27d:50f\n",
            "Connecting to uc1fd101df4d97ac6321bb6fb9cb.dl.dropboxusercontent.com (uc1fd101df4d97ac6321bb6fb9cb.dl.dropboxusercontent.com)|162.125.5.15|:443... connected.\n",
            "HTTP request sent, awaiting response... 200 OK\n",
            "Length: 44060655 (42M) [text/plain]\n",
            "Saving to: ‘all_lang.csv’\n",
            "\n",
            "all_lang.csv        100%[===================>]  42.02M  73.9MB/s    in 0.6s    \n",
            "\n",
            "2023-04-18 09:41:49 (73.9 MB/s) - ‘all_lang.csv’ saved [44060655/44060655]\n",
            "\n"
          ]
        }
      ]
    },
    {
      "cell_type": "code",
      "source": [
        "df = pd.read_csv('/content/all_lang.csv')\n",
        "df['lang'].unique()"
      ],
      "metadata": {
        "id": "ySCjtNftobb2"
      },
      "execution_count": null,
      "outputs": []
    },
    {
      "cell_type": "code",
      "source": [
        "lang='fr'\n",
        "\n",
        "dataset = df[df['lang']==lang]\n",
        "dataset = dataset.dropna()"
      ],
      "metadata": {
        "id": "k2t9VWH_jDu9"
      },
      "execution_count": null,
      "outputs": []
    },
    {
      "cell_type": "code",
      "execution_count": 6,
      "metadata": {
        "id": "4IT4dgxvaQVE",
        "colab": {
          "base_uri": "https://localhost:8080/"
        },
        "outputId": "ef87228e-93e3-4908-a964-a70e87834b50"
      },
      "outputs": [
        {
          "output_type": "stream",
          "name": "stdout",
          "text": [
            "cuda\n"
          ]
        }
      ],
      "source": [
        "device = torch.device('cuda' if torch.cuda.is_available() else 'cpu')\n",
        "\n",
        "print(device)"
      ]
    },
    {
      "cell_type": "code",
      "source": [
        "import nltk\n",
        "nltk.download('punkt')\n",
        "from nltk.tokenize import sent_tokenize, word_tokenize"
      ],
      "metadata": {
        "colab": {
          "base_uri": "https://localhost:8080/"
        },
        "id": "mBjvofpbAu7z",
        "outputId": "9ebb2fa5-0ce9-40d5-cedd-86fcbca4c463"
      },
      "execution_count": 8,
      "outputs": [
        {
          "output_type": "stream",
          "name": "stderr",
          "text": [
            "[nltk_data] Downloading package punkt to /root/nltk_data...\n",
            "[nltk_data]   Unzipping tokenizers/punkt.zip.\n"
          ]
        }
      ]
    },
    {
      "cell_type": "markdown",
      "source": [
        "mean tree height"
      ],
      "metadata": {
        "id": "7RpKchNhAOmR"
      }
    },
    {
      "cell_type": "code",
      "source": [
        "en_nlp = spacy.load('en_core_web_sm')"
      ],
      "metadata": {
        "id": "gXXeaZJrZUhM"
      },
      "execution_count": 9,
      "outputs": []
    },
    {
      "cell_type": "code",
      "source": [
        "def walk_tree(node, depth):\n",
        "    if node.n_lefts + node.n_rights > 0:\n",
        "        return max(walk_tree(child, depth + 1) for child in node.children)\n",
        "    else:\n",
        "        return depth\n",
        "\n",
        "def get_mean_tree_height(text):\n",
        "  depths = []\n",
        "  sentences = sent_tokenize(text)\n",
        "  for sentence in sentences:\n",
        "    doc = en_nlp(sentence)\n",
        "    depth = [walk_tree(sent.root, 0) for sent in doc.sents]\n",
        "    depths.extend(depth)\n",
        "  return np.mean(depths)"
      ],
      "metadata": {
        "id": "7kXBybrUkvbb"
      },
      "execution_count": 10,
      "outputs": []
    },
    {
      "cell_type": "code",
      "source": [
        "dataset['content'].iloc[0]"
      ],
      "metadata": {
        "colab": {
          "base_uri": "https://localhost:8080/",
          "height": 171
        },
        "id": "0myFV-bAZoKQ",
        "outputId": "6b1faabf-30f2-4661-a71c-db8439c9eadd"
      },
      "execution_count": 11,
      "outputs": [
        {
          "output_type": "execute_result",
          "data": {
            "text/plain": [
              "\"When you see the word Amazon, what’s the first thing you think of – the world’s biggest forest, the longest river or the largest internet shop – and which do you think is most important? \\nThese are the questions in a debate about the internet. Brazil and Peru have made objections to a bid made by the US online shop for the domain name, “.amazon”. \\nAmazon has asked for its company name to be a top-level domain name (currently “.com”), but the South American governments say this would stop the use of this internet address for environmental protection, indigenous rights and other public interest uses. \\nThere are many other disputed claims to names, including “.patagonia”. \\nUntil now, the differences between commercial, governmental and other types of identity were easy to see in every internet address by the use of “.com”, “.gov” and 20 other categories. \\nBut soon there are going to be more of these categories – or generic top-level domains (gTLDs) as they are technically known. \\nThe Internet Corporation for Assigned Names and Numbers (ICANN) has had bids (each worth almost $200,000) for hundreds of new gTLDs to add to the 22 that we use already. \\nAmazon has applied for many new domains, including “.shop”, “.song ”, “.book” and “.kindle ”. But the one that has caused most discussion is its application for “.amazon”. \\nBrazil and Peru want the “.amazon” application to be stopped. They say that a private company should not have a name that is also the name of an important geographical area. \\n“Allowing private companies to register geographical names as gTLDs to profit from the meaning of these names is not, in our view, in the public interest,” the Brazilian Ministry of Science and Technology said. \\nBrazil said other members of the Amazon Cooperation Treaty support its views (Bolivia, Colombia, Ecuador, Guyana, Suriname and Venezuela). \\nThere have also been other objections over new top-level domains that use geographical or cultural names. \\nArgentina is unhappy that the US outdoor clothing retailer, Patagonia, wants a domain name that has been known far longer as a region of spectacular beauty. “Argentina rejects the '.patagonia' request for a new generic top-level domain. Patagonia is an important region for the country’s economy because it has oil, fishing, mining and agriculture resources. It is also a major tourist destination.” \\nThey will discuss the disputed bids again at a meeting of ICANN’s Governmental Advisory Committee in Durban in July. The first new domain names will probably be in use before the end of 2013.\""
            ],
            "application/vnd.google.colaboratory.intrinsic+json": {
              "type": "string"
            }
          },
          "metadata": {},
          "execution_count": 11
        }
      ]
    },
    {
      "cell_type": "code",
      "source": [
        "get_mean_tree_height(dataset['content'].iloc[0])"
      ],
      "metadata": {
        "colab": {
          "base_uri": "https://localhost:8080/"
        },
        "id": "WuvOUh0xZcYE",
        "outputId": "922a88eb-ea13-462b-cb08-76dc7936e56c"
      },
      "execution_count": 12,
      "outputs": [
        {
          "output_type": "execute_result",
          "data": {
            "text/plain": [
              "6.190476190476191"
            ]
          },
          "metadata": {},
          "execution_count": 12
        }
      ]
    },
    {
      "cell_type": "code",
      "source": [
        "get_mean_tree_height(dataset['content'].iloc[471])"
      ],
      "metadata": {
        "colab": {
          "base_uri": "https://localhost:8080/"
        },
        "id": "L7iNCANcZrl0",
        "outputId": "0a6bc4e2-8bd0-4945-ca12-76eb687cc204"
      },
      "execution_count": 13,
      "outputs": [
        {
          "output_type": "execute_result",
          "data": {
            "text/plain": [
              "6.666666666666667"
            ]
          },
          "metadata": {},
          "execution_count": 13
        }
      ]
    },
    {
      "cell_type": "code",
      "source": [
        "dataset['mean_tree_height'] = dataset['content'].progress_apply(get_mean_tree_height)"
      ],
      "metadata": {
        "id": "hCwBvSPZCCE8",
        "colab": {
          "base_uri": "https://localhost:8080/",
          "height": 49,
          "referenced_widgets": [
            "b0b74e1b9e6d41e2a04c9390ac78f9ab",
            "0405706cd4a14301befa8958925f2d55",
            "f2e4388a37e546908a1deebdad15342e",
            "b9f36f9b651c42d6945e48d52532826c",
            "be2e1dadce41441ea64bb8ae9160fa6c",
            "888cdd04fd2f45f98aa6a97b2556cab1",
            "12f90621d068414f8de085181379a681",
            "9abde32b4a994f769b905554843942bc",
            "d72ec3f78ae2483fac4fa419d52c7e8d",
            "c49630f3545741fc9f2be1da4f703180",
            "ad1e05c7ac1f46908f977f72dfcd4851"
          ]
        },
        "outputId": "5936d629-4eac-4a5d-e929-203b19564a14"
      },
      "execution_count": 14,
      "outputs": [
        {
          "output_type": "display_data",
          "data": {
            "text/plain": [
              "  0%|          | 0/567 [00:00<?, ?it/s]"
            ],
            "application/vnd.jupyter.widget-view+json": {
              "version_major": 2,
              "version_minor": 0,
              "model_id": "b0b74e1b9e6d41e2a04c9390ac78f9ab"
            }
          },
          "metadata": {}
        }
      ]
    },
    {
      "cell_type": "markdown",
      "source": [
        "mean sentence length"
      ],
      "metadata": {
        "id": "b1-61hcWnB2P"
      }
    },
    {
      "cell_type": "code",
      "source": [
        "sen_len = []\n",
        "for i in dataset['content']:\n",
        "  curr_sen_len = []\n",
        "  for j in sent_tokenize(i):\n",
        "    curr_sen_len.append(len(word_tokenize(j)))\n",
        "  mean_len = np.mean(curr_sen_len)\n",
        "  sen_len.append(mean_len)"
      ],
      "metadata": {
        "id": "A2sl3XLmAN1W"
      },
      "execution_count": 15,
      "outputs": []
    },
    {
      "cell_type": "code",
      "source": [
        "sen_len[400:410]"
      ],
      "metadata": {
        "colab": {
          "base_uri": "https://localhost:8080/"
        },
        "id": "bly-SkRtBqic",
        "outputId": "e961a721-994e-4b44-a00e-e2ff08d65c6f"
      },
      "execution_count": 16,
      "outputs": [
        {
          "output_type": "execute_result",
          "data": {
            "text/plain": [
              "[20.084745762711865,\n",
              " 24.56756756756757,\n",
              " 30.625,\n",
              " 33.911764705882355,\n",
              " 27.363636363636363,\n",
              " 32.25,\n",
              " 19.796610169491526,\n",
              " 24.755102040816325,\n",
              " 31.083333333333332,\n",
              " 34.142857142857146]"
            ]
          },
          "metadata": {},
          "execution_count": 16
        }
      ]
    },
    {
      "cell_type": "code",
      "source": [
        "sen_len[100:110]"
      ],
      "metadata": {
        "colab": {
          "base_uri": "https://localhost:8080/"
        },
        "id": "vbo0KzZ6jzDa",
        "outputId": "c6630b93-cf48-45a7-cbbf-51f1aedd5018"
      },
      "execution_count": 17,
      "outputs": [
        {
          "output_type": "execute_result",
          "data": {
            "text/plain": [
              "[23.06896551724138,\n",
              " 21.84375,\n",
              " 21.75,\n",
              " 20.625,\n",
              " 22.785714285714285,\n",
              " 20.12121212121212,\n",
              " 24.304347826086957,\n",
              " 18.32608695652174,\n",
              " 19.9,\n",
              " 23.296296296296298]"
            ]
          },
          "metadata": {},
          "execution_count": 17
        }
      ]
    },
    {
      "cell_type": "code",
      "source": [
        "dataset['mean_sentence_len'] = sen_len"
      ],
      "metadata": {
        "id": "LTwlv9DkuwEH"
      },
      "execution_count": 18,
      "outputs": []
    },
    {
      "cell_type": "code",
      "source": [
        "dataset"
      ],
      "metadata": {
        "id": "XHRPRek8CCHj",
        "colab": {
          "base_uri": "https://localhost:8080/",
          "height": 419
        },
        "outputId": "b2b0cb9b-9bbf-4c41-8df1-7c46a815454d"
      },
      "execution_count": 19,
      "outputs": [
        {
          "output_type": "execute_result",
          "data": {
            "text/plain": [
              "                                               content  labels  \\\n",
              "0    When you see the word Amazon, what’s the first...       0   \n",
              "1    To tourists, Amsterdam still seems very libera...       0   \n",
              "2    Anitta, a music star from Brazil, has millions...       0   \n",
              "3    Google has made maps of the world’s highest mo...       0   \n",
              "4    The auction of a Banksy painting that disappea...       0   \n",
              "..                                                 ...     ...   \n",
              "562  In typical bad-boyfriend style, Dan Sullivan w...       2   \n",
              "563  Thousands of people protested on Australia’s b...       2   \n",
              "564  1 Race engineer \\nA race engineer liaises betw...       2   \n",
              "565  More than one million British workers might be...       2   \n",
              "566  Low-income countries will remain on the front ...       2   \n",
              "\n",
              "     avg_nounphrases  mean_tree_height  mean_sentence_len  \n",
              "0           6.909091          6.190476          25.400000  \n",
              "1           6.869565          5.727273          24.666667  \n",
              "2           6.148148          5.384615          20.538462  \n",
              "3           7.166667          5.826087          23.260870  \n",
              "4           7.363636          6.047619          24.526316  \n",
              "..               ...               ...                ...  \n",
              "562         6.333333          4.771429          22.833333  \n",
              "563         8.666667          5.931034          28.653846  \n",
              "564         7.571429          6.023810          24.707317  \n",
              "565        11.214286          7.653846          39.260870  \n",
              "566         7.290323          5.866667          27.321429  \n",
              "\n",
              "[567 rows x 5 columns]"
            ],
            "text/html": [
              "\n",
              "  <div id=\"df-106e38f9-2225-40d5-bb1d-a08e07e81739\">\n",
              "    <div class=\"colab-df-container\">\n",
              "      <div>\n",
              "<style scoped>\n",
              "    .dataframe tbody tr th:only-of-type {\n",
              "        vertical-align: middle;\n",
              "    }\n",
              "\n",
              "    .dataframe tbody tr th {\n",
              "        vertical-align: top;\n",
              "    }\n",
              "\n",
              "    .dataframe thead th {\n",
              "        text-align: right;\n",
              "    }\n",
              "</style>\n",
              "<table border=\"1\" class=\"dataframe\">\n",
              "  <thead>\n",
              "    <tr style=\"text-align: right;\">\n",
              "      <th></th>\n",
              "      <th>content</th>\n",
              "      <th>labels</th>\n",
              "      <th>avg_nounphrases</th>\n",
              "      <th>mean_tree_height</th>\n",
              "      <th>mean_sentence_len</th>\n",
              "    </tr>\n",
              "  </thead>\n",
              "  <tbody>\n",
              "    <tr>\n",
              "      <th>0</th>\n",
              "      <td>When you see the word Amazon, what’s the first...</td>\n",
              "      <td>0</td>\n",
              "      <td>6.909091</td>\n",
              "      <td>6.190476</td>\n",
              "      <td>25.400000</td>\n",
              "    </tr>\n",
              "    <tr>\n",
              "      <th>1</th>\n",
              "      <td>To tourists, Amsterdam still seems very libera...</td>\n",
              "      <td>0</td>\n",
              "      <td>6.869565</td>\n",
              "      <td>5.727273</td>\n",
              "      <td>24.666667</td>\n",
              "    </tr>\n",
              "    <tr>\n",
              "      <th>2</th>\n",
              "      <td>Anitta, a music star from Brazil, has millions...</td>\n",
              "      <td>0</td>\n",
              "      <td>6.148148</td>\n",
              "      <td>5.384615</td>\n",
              "      <td>20.538462</td>\n",
              "    </tr>\n",
              "    <tr>\n",
              "      <th>3</th>\n",
              "      <td>Google has made maps of the world’s highest mo...</td>\n",
              "      <td>0</td>\n",
              "      <td>7.166667</td>\n",
              "      <td>5.826087</td>\n",
              "      <td>23.260870</td>\n",
              "    </tr>\n",
              "    <tr>\n",
              "      <th>4</th>\n",
              "      <td>The auction of a Banksy painting that disappea...</td>\n",
              "      <td>0</td>\n",
              "      <td>7.363636</td>\n",
              "      <td>6.047619</td>\n",
              "      <td>24.526316</td>\n",
              "    </tr>\n",
              "    <tr>\n",
              "      <th>...</th>\n",
              "      <td>...</td>\n",
              "      <td>...</td>\n",
              "      <td>...</td>\n",
              "      <td>...</td>\n",
              "      <td>...</td>\n",
              "    </tr>\n",
              "    <tr>\n",
              "      <th>562</th>\n",
              "      <td>In typical bad-boyfriend style, Dan Sullivan w...</td>\n",
              "      <td>2</td>\n",
              "      <td>6.333333</td>\n",
              "      <td>4.771429</td>\n",
              "      <td>22.833333</td>\n",
              "    </tr>\n",
              "    <tr>\n",
              "      <th>563</th>\n",
              "      <td>Thousands of people protested on Australia’s b...</td>\n",
              "      <td>2</td>\n",
              "      <td>8.666667</td>\n",
              "      <td>5.931034</td>\n",
              "      <td>28.653846</td>\n",
              "    </tr>\n",
              "    <tr>\n",
              "      <th>564</th>\n",
              "      <td>1 Race engineer \\nA race engineer liaises betw...</td>\n",
              "      <td>2</td>\n",
              "      <td>7.571429</td>\n",
              "      <td>6.023810</td>\n",
              "      <td>24.707317</td>\n",
              "    </tr>\n",
              "    <tr>\n",
              "      <th>565</th>\n",
              "      <td>More than one million British workers might be...</td>\n",
              "      <td>2</td>\n",
              "      <td>11.214286</td>\n",
              "      <td>7.653846</td>\n",
              "      <td>39.260870</td>\n",
              "    </tr>\n",
              "    <tr>\n",
              "      <th>566</th>\n",
              "      <td>Low-income countries will remain on the front ...</td>\n",
              "      <td>2</td>\n",
              "      <td>7.290323</td>\n",
              "      <td>5.866667</td>\n",
              "      <td>27.321429</td>\n",
              "    </tr>\n",
              "  </tbody>\n",
              "</table>\n",
              "<p>567 rows × 5 columns</p>\n",
              "</div>\n",
              "      <button class=\"colab-df-convert\" onclick=\"convertToInteractive('df-106e38f9-2225-40d5-bb1d-a08e07e81739')\"\n",
              "              title=\"Convert this dataframe to an interactive table.\"\n",
              "              style=\"display:none;\">\n",
              "        \n",
              "  <svg xmlns=\"http://www.w3.org/2000/svg\" height=\"24px\"viewBox=\"0 0 24 24\"\n",
              "       width=\"24px\">\n",
              "    <path d=\"M0 0h24v24H0V0z\" fill=\"none\"/>\n",
              "    <path d=\"M18.56 5.44l.94 2.06.94-2.06 2.06-.94-2.06-.94-.94-2.06-.94 2.06-2.06.94zm-11 1L8.5 8.5l.94-2.06 2.06-.94-2.06-.94L8.5 2.5l-.94 2.06-2.06.94zm10 10l.94 2.06.94-2.06 2.06-.94-2.06-.94-.94-2.06-.94 2.06-2.06.94z\"/><path d=\"M17.41 7.96l-1.37-1.37c-.4-.4-.92-.59-1.43-.59-.52 0-1.04.2-1.43.59L10.3 9.45l-7.72 7.72c-.78.78-.78 2.05 0 2.83L4 21.41c.39.39.9.59 1.41.59.51 0 1.02-.2 1.41-.59l7.78-7.78 2.81-2.81c.8-.78.8-2.07 0-2.86zM5.41 20L4 18.59l7.72-7.72 1.47 1.35L5.41 20z\"/>\n",
              "  </svg>\n",
              "      </button>\n",
              "      \n",
              "  <style>\n",
              "    .colab-df-container {\n",
              "      display:flex;\n",
              "      flex-wrap:wrap;\n",
              "      gap: 12px;\n",
              "    }\n",
              "\n",
              "    .colab-df-convert {\n",
              "      background-color: #E8F0FE;\n",
              "      border: none;\n",
              "      border-radius: 50%;\n",
              "      cursor: pointer;\n",
              "      display: none;\n",
              "      fill: #1967D2;\n",
              "      height: 32px;\n",
              "      padding: 0 0 0 0;\n",
              "      width: 32px;\n",
              "    }\n",
              "\n",
              "    .colab-df-convert:hover {\n",
              "      background-color: #E2EBFA;\n",
              "      box-shadow: 0px 1px 2px rgba(60, 64, 67, 0.3), 0px 1px 3px 1px rgba(60, 64, 67, 0.15);\n",
              "      fill: #174EA6;\n",
              "    }\n",
              "\n",
              "    [theme=dark] .colab-df-convert {\n",
              "      background-color: #3B4455;\n",
              "      fill: #D2E3FC;\n",
              "    }\n",
              "\n",
              "    [theme=dark] .colab-df-convert:hover {\n",
              "      background-color: #434B5C;\n",
              "      box-shadow: 0px 1px 3px 1px rgba(0, 0, 0, 0.15);\n",
              "      filter: drop-shadow(0px 1px 2px rgba(0, 0, 0, 0.3));\n",
              "      fill: #FFFFFF;\n",
              "    }\n",
              "  </style>\n",
              "\n",
              "      <script>\n",
              "        const buttonEl =\n",
              "          document.querySelector('#df-106e38f9-2225-40d5-bb1d-a08e07e81739 button.colab-df-convert');\n",
              "        buttonEl.style.display =\n",
              "          google.colab.kernel.accessAllowed ? 'block' : 'none';\n",
              "\n",
              "        async function convertToInteractive(key) {\n",
              "          const element = document.querySelector('#df-106e38f9-2225-40d5-bb1d-a08e07e81739');\n",
              "          const dataTable =\n",
              "            await google.colab.kernel.invokeFunction('convertToInteractive',\n",
              "                                                     [key], {});\n",
              "          if (!dataTable) return;\n",
              "\n",
              "          const docLinkHtml = 'Like what you see? Visit the ' +\n",
              "            '<a target=\"_blank\" href=https://colab.research.google.com/notebooks/data_table.ipynb>data table notebook</a>'\n",
              "            + ' to learn more about interactive tables.';\n",
              "          element.innerHTML = '';\n",
              "          dataTable['output_type'] = 'display_data';\n",
              "          await google.colab.output.renderOutput(dataTable, element);\n",
              "          const docLink = document.createElement('div');\n",
              "          docLink.innerHTML = docLinkHtml;\n",
              "          element.appendChild(docLink);\n",
              "        }\n",
              "      </script>\n",
              "    </div>\n",
              "  </div>\n",
              "  "
            ]
          },
          "metadata": {},
          "execution_count": 19
        }
      ]
    },
    {
      "cell_type": "code",
      "source": [
        "!pip install lingfeat"
      ],
      "metadata": {
        "id": "ZSu2uiL0UDu4"
      },
      "execution_count": null,
      "outputs": []
    },
    {
      "cell_type": "code",
      "source": [
        "from lingfeat import extractor"
      ],
      "metadata": {
        "id": "6K5cQd8GULso"
      },
      "execution_count": null,
      "outputs": []
    },
    {
      "cell_type": "code",
      "source": [
        "def get_avg_nounphrase(text):\n",
        "  LingFeat = extractor.pass_text(text)\n",
        "  LingFeat.preprocess()\n",
        "  avg = LingFeat.PhrF_()['as_NoPhr_C']\n",
        "  return avg"
      ],
      "metadata": {
        "id": "HgNJg4OKUL1S"
      },
      "execution_count": null,
      "outputs": []
    },
    {
      "cell_type": "code",
      "source": [
        "dataset['avg_nounphrases'] = dataset['content'].progress_apply(get_avg_nounphrase)"
      ],
      "metadata": {
        "id": "UlfUws4eUL8J"
      },
      "execution_count": null,
      "outputs": []
    },
    {
      "cell_type": "markdown",
      "source": [
        "Dataset"
      ],
      "metadata": {
        "id": "9rCWHVZincxQ"
      }
    },
    {
      "cell_type": "code",
      "execution_count": 20,
      "metadata": {
        "id": "U6YWXpoUdJjh"
      },
      "outputs": [],
      "source": [
        "class DiffDataset(Dataset):\n",
        "    def __init__(self, contents, labels, tokenizer, max_len, feature_1=None, feature_2=None, feature_3=None):\n",
        "        self.contents = contents\n",
        "        self.labels = labels\n",
        "        self.tokenizer = tokenizer\n",
        "\n",
        "        self.feature_1 = feature_1\n",
        "        self.feature_2 = feature_2\n",
        "        self.feature_3 = feature_3\n",
        "\n",
        "        self.max_len = max_len\n",
        "  \n",
        "    def __len__(self):\n",
        "        return len(self.contents)\n",
        "  \n",
        "    def __getitem__(self, item):\n",
        "        content = str(self.contents[item])\n",
        "        labels = self.labels[item]\n",
        "\n",
        "        feature_1 = self.feature_1[item]\n",
        "        feature_2 = self.feature_2[item]\n",
        "        feature_3 = self.feature_3[item]\n",
        "\n",
        "        # Tokenizing the texts, while also including special tokens \n",
        "        # for start and end of the text, as well as padding\n",
        "        encoding = self.tokenizer.encode_plus(\n",
        "          content,\n",
        "          add_special_tokens=True,\n",
        "          max_length=self.max_len,\n",
        "          return_token_type_ids=False,\n",
        "          pad_to_max_length=True,\n",
        "          return_attention_mask=True,\n",
        "          return_tensors='pt', # We return here the data as Pytorch Tensor\n",
        "        )\n",
        "\n",
        "        return {\n",
        "          'content': content,\n",
        "          'input_ids': encoding['input_ids'].flatten(),\n",
        "          'attention_mask': encoding['attention_mask'].flatten(),\n",
        "          'labels': torch.tensor(labels, dtype=torch.long), \n",
        "          'feature_1': torch.tensor([feature_1], dtype=torch.long),\n",
        "          'feature_2': torch.tensor([feature_2], dtype=torch.long),\n",
        "          'feature_3': torch.tensor([feature_3], dtype=torch.long)\n",
        "        }\n"
      ]
    },
    {
      "cell_type": "code",
      "execution_count": 21,
      "metadata": {
        "id": "vrKeldykjkst",
        "colab": {
          "base_uri": "https://localhost:8080/"
        },
        "outputId": "b02a8ca5-1244-48fc-e497-7de35f9b0377"
      },
      "outputs": [
        {
          "output_type": "stream",
          "name": "stdout",
          "text": [
            "size of training set : 407\n",
            "size of validation set : 46\n",
            "size of test set : 114\n"
          ]
        }
      ],
      "source": [
        "df_temp, df_test = train_test_split(dataset, test_size=0.2, random_state=42)\n",
        "df_train, df_val = train_test_split(df_temp, test_size=0.1, random_state=42)\n",
        "\n",
        "print(\"size of training set : \" + str(df_train.shape[0]))\n",
        "print(\"size of validation set : \" + str(df_val.shape[0]))\n",
        "print(\"size of test set : \" + str(df_test.shape[0]))\n",
        "\n"
      ]
    },
    {
      "cell_type": "code",
      "source": [
        "def generate_dataloader(df, tokenizer, max_len, batch_size):\n",
        "    ds = DiffDataset(\n",
        "        contents=df.content.to_numpy(),\n",
        "        labels=df.labels.to_numpy(),\n",
        "\n",
        "        feature_1 = df.mean_sentence_len.to_numpy(),\n",
        "        feature_2 = df.mean_tree_height.to_numpy(),\n",
        "        feature_3 = df.avg_nounphrases.to_numpy(),\n",
        "        \n",
        "        \n",
        "        tokenizer=tokenizer,\n",
        "        max_len=max_len,\n",
        "      )\n",
        "    return DataLoader(\n",
        "        ds,\n",
        "        batch_size=batch_size,\n",
        "        num_workers=2\n",
        "      )\n"
      ],
      "metadata": {
        "id": "afTzRd_ipLo0"
      },
      "execution_count": 22,
      "outputs": []
    },
    {
      "cell_type": "code",
      "source": [
        "tokenizer = AutoTokenizer.from_pretrained(model_name)"
      ],
      "metadata": {
        "id": "4gJOnD7XlO-1",
        "colab": {
          "base_uri": "https://localhost:8080/",
          "height": 145,
          "referenced_widgets": [
            "2dc7c217fb6f45b28469d2cf3c717317",
            "2417e7586440424d939b2a4d42363aca",
            "0748fa894b334d0c9a066969eae79669",
            "c87889765aab4e4c9945241238244b3f",
            "b1d4466e9fe5491ca8abc1e1ac072a72",
            "35d751edd71f4a50bdfdb96cd26c4b39",
            "aa21eba308b34a5483c3736efe7c8db9",
            "f52dbeedd76a43d288e7e709fe6427c8",
            "b36208bfb73b47a09b0d9654149f9971",
            "1065f02d6b7b490d9f0f6b4455e723fd",
            "1c3b219093ec49559467c520087020e9",
            "46a700b4d340460385a38bf23626f4a5",
            "122fe654645c4dd791853075db4e20c1",
            "c04931a55c804a5cacf65e149fc4f342",
            "bb05ea6d42894076ba6e46b6fe05bf03",
            "1ac8a4ba4e81406eb1b916a9b19ed7b9",
            "e5359c763d8e4214ba136ba75b0c1c73",
            "5d25916ada874fab981bf6d337ba9da7",
            "427bd25b7a3e461fa02d8dd1be221298",
            "73f7a2c50a5348189ab91576165d5251",
            "74b1bb3d624d44f5ac83afcc16fc937f",
            "ca3ec3f2dbb54bf1a60280bb3a51ece4",
            "853d3012885f4185ba44fdcfeb7a6af3",
            "160fdff6fe93439dad0e508bc3c9617b",
            "7b3e9e11f72e41fd8e282bf5c0fd474e",
            "886bd39ee8854f0dbd449870e7dcbe74",
            "20813ff3b3aa479f84c46c7873745b53",
            "6e7057aa89d34791aff1f7af5faf9857",
            "bc0492f70b4b401dacb7fa1048c02966",
            "11dcb33f086d4cd8b48b7d26478d40ec",
            "9131d913b2734e8ab4fe57cf8ea819f6",
            "a4e0c3571e074f57a021d4ed19e60d7a",
            "496277d87210442ba26563370a9fac5b",
            "f54ac74c747e48ce8b5c0ccb16b0aed9",
            "d5714764ba5c4f67967c38e9313dd157",
            "7c284388da794722a8c2ffb6221d06d4",
            "124d4f783cd9450da59c448598bc378a",
            "a7546442976d45a2b39e5b908ccd9544",
            "4dd15c97ba1c4ec8baf03396f28cd39f",
            "9e507e9074ea4aa4b7450ba52a0543dc",
            "be76a8a13fa14141aa01ee05f15eb6dc",
            "d3a290b27811481dab637795c0541046",
            "c44ca0f5938840e4914ee5b4481e0a9d",
            "e2afc4f271214c2c865ab676d239558e"
          ]
        },
        "outputId": "6a1bee3a-6e0b-412e-8526-e040255fa61c"
      },
      "execution_count": 23,
      "outputs": [
        {
          "output_type": "display_data",
          "data": {
            "text/plain": [
              "Downloading (…)okenizer_config.json:   0%|          | 0.00/28.0 [00:00<?, ?B/s]"
            ],
            "application/vnd.jupyter.widget-view+json": {
              "version_major": 2,
              "version_minor": 0,
              "model_id": "2dc7c217fb6f45b28469d2cf3c717317"
            }
          },
          "metadata": {}
        },
        {
          "output_type": "display_data",
          "data": {
            "text/plain": [
              "Downloading (…)lve/main/config.json:   0%|          | 0.00/570 [00:00<?, ?B/s]"
            ],
            "application/vnd.jupyter.widget-view+json": {
              "version_major": 2,
              "version_minor": 0,
              "model_id": "46a700b4d340460385a38bf23626f4a5"
            }
          },
          "metadata": {}
        },
        {
          "output_type": "display_data",
          "data": {
            "text/plain": [
              "Downloading (…)solve/main/vocab.txt:   0%|          | 0.00/232k [00:00<?, ?B/s]"
            ],
            "application/vnd.jupyter.widget-view+json": {
              "version_major": 2,
              "version_minor": 0,
              "model_id": "853d3012885f4185ba44fdcfeb7a6af3"
            }
          },
          "metadata": {}
        },
        {
          "output_type": "display_data",
          "data": {
            "text/plain": [
              "Downloading (…)/main/tokenizer.json:   0%|          | 0.00/466k [00:00<?, ?B/s]"
            ],
            "application/vnd.jupyter.widget-view+json": {
              "version_major": 2,
              "version_minor": 0,
              "model_id": "f54ac74c747e48ce8b5c0ccb16b0aed9"
            }
          },
          "metadata": {}
        }
      ]
    },
    {
      "cell_type": "code",
      "execution_count": 24,
      "metadata": {
        "id": "Xfgsled3gC7O",
        "colab": {
          "base_uri": "https://localhost:8080/"
        },
        "outputId": "8d18b5a5-a098-462d-9795-40b8e63f4cd2"
      },
      "outputs": [
        {
          "output_type": "stream",
          "name": "stderr",
          "text": [
            "Truncation was not explicitly activated but `max_length` is provided a specific value, please use `truncation=True` to explicitly truncate examples to max length. Defaulting to 'longest_first' truncation strategy. If you encode pairs of sequences (GLUE-style) with the tokenizer you can select this strategy more precisely by providing a specific strategy to `truncation`.\n",
            "Truncation was not explicitly activated but `max_length` is provided a specific value, please use `truncation=True` to explicitly truncate examples to max length. Defaulting to 'longest_first' truncation strategy. If you encode pairs of sequences (GLUE-style) with the tokenizer you can select this strategy more precisely by providing a specific strategy to `truncation`.\n"
          ]
        }
      ],
      "source": [
        "max_len = 128 \n",
        "batch_size = 8\n",
        "\n",
        "train_dataloader = generate_dataloader(df_train, tokenizer, max_len,batch_size)\n",
        "val_dataloader = generate_dataloader(df_val, tokenizer, max_len,batch_size)\n",
        "test_dataloader = generate_dataloader(df_test, tokenizer, max_len,batch_size)\n",
        "\n",
        "data = next(iter(train_dataloader))\n",
        "\n"
      ]
    },
    {
      "cell_type": "code",
      "source": [
        "class DiffClassifier(nn.Module):\n",
        "\n",
        "    def __init__(self, n_classes):\n",
        "        super(DiffClassifier, self).__init__()\n",
        "        self.bert = AutoModel.from_pretrained(model_name)\n",
        "        # Adding drop out, keeping 90% of the last neurons of the raw BERT model\n",
        "        #self.drop = nn.Dropout(p=0.1)\n",
        "        # The last linear layer for multiclass classification\n",
        "        self.out = nn.Linear(self.bert.config.hidden_size+3, n_classes)\n",
        "  \n",
        "    # Forward propagation function\n",
        "    def forward(self, input_ids, attention_mask, feature_1, feature_2, feature_3):\n",
        "        model_outs = self.bert(\n",
        "          input_ids=input_ids,\n",
        "          attention_mask=attention_mask\n",
        "        )\n",
        "        last_hidden_state = model_outs[0]\n",
        "\n",
        "        pooled_output = model_outs[1]\n",
        "        pooled_output = torch.cat((pooled_output, feature_1, feature_2, feature_3) , dim=1)\n",
        "\n",
        "        return self.out(pooled_output)\n"
      ],
      "metadata": {
        "id": "Txzh41fGqKPf"
      },
      "execution_count": 25,
      "outputs": []
    },
    {
      "cell_type": "code",
      "source": [
        "len(dataset['labels'].unique())"
      ],
      "metadata": {
        "colab": {
          "base_uri": "https://localhost:8080/"
        },
        "id": "RidqiU54HXR1",
        "outputId": "8708a2e7-f0bc-4bf6-c64f-f08143b94035"
      },
      "execution_count": 26,
      "outputs": [
        {
          "output_type": "execute_result",
          "data": {
            "text/plain": [
              "3"
            ]
          },
          "metadata": {},
          "execution_count": 26
        }
      ]
    },
    {
      "cell_type": "code",
      "source": [
        "model = DiffClassifier(len(dataset['labels'].unique()))\n",
        "\n",
        "# Running the classifier on GPU\n",
        "model = model.to(device)\n"
      ],
      "metadata": {
        "id": "PmXqE4EkrBHX",
        "colab": {
          "base_uri": "https://localhost:8080/"
        },
        "outputId": "41f0d69d-bf72-4ed0-c256-eaa14f50f357"
      },
      "execution_count": 54,
      "outputs": [
        {
          "output_type": "stream",
          "name": "stderr",
          "text": [
            "Some weights of the model checkpoint at bert-base-uncased were not used when initializing BertModel: ['cls.predictions.bias', 'cls.seq_relationship.bias', 'cls.seq_relationship.weight', 'cls.predictions.decoder.weight', 'cls.predictions.transform.LayerNorm.bias', 'cls.predictions.transform.dense.bias', 'cls.predictions.transform.dense.weight', 'cls.predictions.transform.LayerNorm.weight']\n",
            "- This IS expected if you are initializing BertModel from the checkpoint of a model trained on another task or with another architecture (e.g. initializing a BertForSequenceClassification model from a BertForPreTraining model).\n",
            "- This IS NOT expected if you are initializing BertModel from the checkpoint of a model that you expect to be exactly identical (initializing a BertForSequenceClassification model from a BertForSequenceClassification model).\n"
          ]
        }
      ]
    },
    {
      "cell_type": "code",
      "source": [
        "input_ids = data['input_ids'].to(device)\n",
        "attention_mask = data['attention_mask'].to(device)\n",
        "features = data['feature_1'].to(device)\n",
        "print(input_ids.shape)\n",
        "print(attention_mask.shape)\n",
        "print(features.shape)"
      ],
      "metadata": {
        "id": "cjtiveeIRsH2",
        "colab": {
          "base_uri": "https://localhost:8080/"
        },
        "outputId": "bd1f5411-d3ec-415e-e9a0-9997f4142d09"
      },
      "execution_count": 51,
      "outputs": [
        {
          "output_type": "stream",
          "name": "stdout",
          "text": [
            "torch.Size([8, 128])\n",
            "torch.Size([8, 128])\n",
            "torch.Size([8, 1])\n"
          ]
        }
      ]
    },
    {
      "cell_type": "code",
      "source": [
        "optimizer = AdamW(model.parameters(),\n",
        "                  lr=2e-5, \n",
        "                  weight_decay = 0.999,\n",
        "                  correct_bias=False)\n",
        "epochs = 5\n",
        "scheduler = get_linear_schedule_with_warmup(optimizer,\n",
        "                                            num_warmup_steps=0.09,\n",
        "                                            num_training_steps=len(train_dataloader)*epochs)\n",
        "loss_fn = nn.CrossEntropyLoss().to(device)\n"
      ],
      "metadata": {
        "id": "fT-bNR_I4Xdx"
      },
      "execution_count": 55,
      "outputs": []
    },
    {
      "cell_type": "code",
      "source": [
        "# Computing multiclass precision for the outputs of the model\n",
        "def compute_precision(outputs, labels):\n",
        "  op = outputs.cpu()\n",
        "  la = labels.cpu()\n",
        "  _, preds = torch.max(op, dim=1)\n",
        "  # We choose 'weighted' averaging of the precision of each label because it takes into account the imbalance of labels in our tweets dataset\n",
        "  # other viable averaging methods are 'micro'\n",
        "  return torch.tensor(precision_score(la, preds, average='weighted',zero_division=0))"
      ],
      "metadata": {
        "id": "b4X0LoKz4dSs"
      },
      "execution_count": 31,
      "outputs": []
    },
    {
      "cell_type": "code",
      "source": [
        "def train(model, train_dataloader,optimizer,scheduler):\n",
        "\n",
        "        # Reset tracking variables at the beginning of each epoch\n",
        "        precision, correct_predictions, batch_counts = 0, 0, 0\n",
        "        losses = []\n",
        "\n",
        "        # Put the model into the training mode\n",
        "        model.train()\n",
        "\n",
        "  \n",
        "        # For each batch of training data...\n",
        "        for d in train_dataloader:\n",
        "              batch_counts +=1\n",
        "              # Load batch to GPU\n",
        "              input_ids = d[\"input_ids\"].to(device)\n",
        "              attention_mask = d[\"attention_mask\"].to(device)\n",
        "              labels = d[\"labels\"].to(device)\n",
        "              feature_1 = d[\"feature_1\"].to(device)\n",
        "              feature_2 = d[\"feature_2\"].to(device)\n",
        "              feature_3 = d[\"feature_3\"].to(device)\n",
        "\n",
        "              outputs = model(input_ids=input_ids,attention_mask=attention_mask, feature_1=feature_1, feature_2=feature_2, feature_3=feature_3)\n",
        "              \n",
        "              _, preds = torch.max(outputs, dim=1)\n",
        "              \n",
        "              # Compute loss and accumulate the loss values\n",
        "\n",
        "              loss = loss_fn(outputs, labels)\n",
        "\n",
        "              correct_predictions += torch.sum(preds == labels)\n",
        "              losses.append(loss.item())\n",
        "              precision +=  compute_precision(outputs, labels)\n",
        "            \n",
        "              loss.backward()\n",
        "\n",
        "              # Clip the norm of the gradients to 1.0 to prevent \"exploding gradients\"\n",
        "              torch.nn.utils.clip_grad_norm_(model.parameters(), max_norm=1.0)\n",
        "              # Update parameters and the learning rate  \n",
        "              optimizer.step()\n",
        "              scheduler.step()\n",
        "              optimizer.zero_grad()\n",
        "          # Accuracy, loss, precision\n",
        "        return correct_predictions.double() / len(df_train), np.mean(losses), precision/batch_counts"
      ],
      "metadata": {
        "id": "TYlrsggO4hcY"
      },
      "execution_count": 32,
      "outputs": []
    },
    {
      "cell_type": "code",
      "source": [
        "def eval(model, valid_dataloader, loss_fn, device, n):\n",
        "    model = model.eval()\n",
        "\n",
        "\n",
        "    correct_predictions , precision ,batch_counts = 0,0,0\n",
        "    losses = []\n",
        "\n",
        "    with torch.no_grad():\n",
        "        for d in valid_dataloader:\n",
        "            batch_counts += 1\n",
        "\n",
        "            # Preparing inputs\n",
        "            input_ids = d[\"input_ids\"].to(device)\n",
        "            attention_mask = d[\"attention_mask\"].to(device)\n",
        "            labels = d[\"labels\"].to(device)\n",
        "            feature_1 = d[\"feature_1\"].to(device)\n",
        "            feature_2 = d[\"feature_2\"].to(device)\n",
        "            feature_3 = d[\"feature_3\"].to(device)\n",
        "\n",
        "            # Running inference using the model\n",
        "            outputs = model(\n",
        "                input_ids=input_ids,\n",
        "                attention_mask=attention_mask,\n",
        "                feature_1=feature_1, \n",
        "                feature_2=feature_2,\n",
        "                feature_3=feature_3\n",
        "              )\n",
        "            \n",
        "            # Running softmax on the outputs\n",
        "            _, preds = torch.max(outputs, dim=1)\n",
        "\n",
        "            # Computing loss function\n",
        "            loss = loss_fn(outputs, labels)\n",
        "\n",
        "            # Counting the correct occurences\n",
        "            correct_predictions += torch.sum(preds == labels)\n",
        "\n",
        "            # Computing the precision (true positives/true positives + false positives) \n",
        "            # for each class and label, and find their average weighted by support \n",
        "            precision += compute_precision(outputs,labels)\n",
        "\n",
        "            losses.append(loss.item())\n",
        "    # Accuracy, loss, precision \n",
        "    return correct_predictions.double()/n, np.mean(losses), precision/batch_counts "
      ],
      "metadata": {
        "id": "N6uYF4Tg82wa"
      },
      "execution_count": 34,
      "outputs": []
    },
    {
      "cell_type": "code",
      "source": [
        "history = defaultdict(list)\n",
        "b_accuracy = 0\n",
        "\n",
        "for epoch in range(epochs):\n",
        "  \n",
        "  print(f'Epoch {epoch + 1}/{epochs}')\n",
        "  print('-' * 20)\n",
        "\n",
        "  train_acc, train_loss, train_preci = train(\n",
        "        model,\n",
        "        train_dataloader,    \n",
        "        optimizer, \n",
        "        scheduler,\n",
        "      )\n",
        "  print(f\"Train : Loss {train_loss}, Accuracy : {train_acc*100:.2f} %, Precision : {train_preci}\")\n",
        "\n",
        "  history['train_acc'].append(train_acc)\n",
        "  history['train_loss'].append(train_loss)\n",
        "  history['train_precision'].append(train_preci)\n",
        "\n",
        "  val_acc, val_loss, val_preci = eval(\n",
        "        model,\n",
        "        val_dataloader,\n",
        "        loss_fn, \n",
        "        device,\n",
        "        len(df_val),\n",
        "      )\n",
        "\n",
        "  print(f'Val : Loss :{val_loss}, Accuracy : {val_acc*100:.2f} %, Precision : {val_preci}')  \n",
        "  print()\n",
        "\n",
        "  history['val_acc'].append(val_acc)\n",
        "  history['val_loss'].append(val_loss)\n",
        "  history['val_precision'].append(val_preci)\n",
        "  \n",
        "  if val_acc > b_accuracy:\n",
        "    torch.save(model.state_dict(), 'bert_model_baseline.bin')\n",
        "    b_accuracy = val_acc"
      ],
      "metadata": {
        "id": "h8JiTl4u5bWJ",
        "colab": {
          "base_uri": "https://localhost:8080/"
        },
        "outputId": "f63d9f3f-94b8-48f7-f2bf-a7f614dca2bc"
      },
      "execution_count": 56,
      "outputs": [
        {
          "output_type": "stream",
          "name": "stdout",
          "text": [
            "Epoch 1/5\n",
            "--------------------\n"
          ]
        },
        {
          "output_type": "stream",
          "name": "stderr",
          "text": [
            "Truncation was not explicitly activated but `max_length` is provided a specific value, please use `truncation=True` to explicitly truncate examples to max length. Defaulting to 'longest_first' truncation strategy. If you encode pairs of sequences (GLUE-style) with the tokenizer you can select this strategy more precisely by providing a specific strategy to `truncation`.\n",
            "Truncation was not explicitly activated but `max_length` is provided a specific value, please use `truncation=True` to explicitly truncate examples to max length. Defaulting to 'longest_first' truncation strategy. If you encode pairs of sequences (GLUE-style) with the tokenizer you can select this strategy more precisely by providing a specific strategy to `truncation`.\n"
          ]
        },
        {
          "output_type": "stream",
          "name": "stdout",
          "text": [
            "Train : Loss 0.8974175061665329, Accuracy : 52.83 %, Precision : 0.48478641456582633\n"
          ]
        },
        {
          "output_type": "stream",
          "name": "stderr",
          "text": [
            "Truncation was not explicitly activated but `max_length` is provided a specific value, please use `truncation=True` to explicitly truncate examples to max length. Defaulting to 'longest_first' truncation strategy. If you encode pairs of sequences (GLUE-style) with the tokenizer you can select this strategy more precisely by providing a specific strategy to `truncation`.\n",
            "Truncation was not explicitly activated but `max_length` is provided a specific value, please use `truncation=True` to explicitly truncate examples to max length. Defaulting to 'longest_first' truncation strategy. If you encode pairs of sequences (GLUE-style) with the tokenizer you can select this strategy more precisely by providing a specific strategy to `truncation`.\n"
          ]
        },
        {
          "output_type": "stream",
          "name": "stdout",
          "text": [
            "Val : Loss :0.7190704345703125, Accuracy : 63.04 %, Precision : 0.6331349206349207\n",
            "\n",
            "Epoch 2/5\n",
            "--------------------\n"
          ]
        },
        {
          "output_type": "stream",
          "name": "stderr",
          "text": [
            "Truncation was not explicitly activated but `max_length` is provided a specific value, please use `truncation=True` to explicitly truncate examples to max length. Defaulting to 'longest_first' truncation strategy. If you encode pairs of sequences (GLUE-style) with the tokenizer you can select this strategy more precisely by providing a specific strategy to `truncation`.\n",
            "Truncation was not explicitly activated but `max_length` is provided a specific value, please use `truncation=True` to explicitly truncate examples to max length. Defaulting to 'longest_first' truncation strategy. If you encode pairs of sequences (GLUE-style) with the tokenizer you can select this strategy more precisely by providing a specific strategy to `truncation`.\n"
          ]
        },
        {
          "output_type": "stream",
          "name": "stdout",
          "text": [
            "Train : Loss 0.6718017555334989, Accuracy : 74.45 %, Precision : 0.7544759570494866\n"
          ]
        },
        {
          "output_type": "stream",
          "name": "stderr",
          "text": [
            "Truncation was not explicitly activated but `max_length` is provided a specific value, please use `truncation=True` to explicitly truncate examples to max length. Defaulting to 'longest_first' truncation strategy. If you encode pairs of sequences (GLUE-style) with the tokenizer you can select this strategy more precisely by providing a specific strategy to `truncation`.\n",
            "Truncation was not explicitly activated but `max_length` is provided a specific value, please use `truncation=True` to explicitly truncate examples to max length. Defaulting to 'longest_first' truncation strategy. If you encode pairs of sequences (GLUE-style) with the tokenizer you can select this strategy more precisely by providing a specific strategy to `truncation`.\n"
          ]
        },
        {
          "output_type": "stream",
          "name": "stdout",
          "text": [
            "Val : Loss :0.43945938845475513, Accuracy : 86.96 %, Precision : 0.8819444444444445\n",
            "\n",
            "Epoch 3/5\n",
            "--------------------\n"
          ]
        },
        {
          "output_type": "stream",
          "name": "stderr",
          "text": [
            "Truncation was not explicitly activated but `max_length` is provided a specific value, please use `truncation=True` to explicitly truncate examples to max length. Defaulting to 'longest_first' truncation strategy. If you encode pairs of sequences (GLUE-style) with the tokenizer you can select this strategy more precisely by providing a specific strategy to `truncation`.\n",
            "Truncation was not explicitly activated but `max_length` is provided a specific value, please use `truncation=True` to explicitly truncate examples to max length. Defaulting to 'longest_first' truncation strategy. If you encode pairs of sequences (GLUE-style) with the tokenizer you can select this strategy more precisely by providing a specific strategy to `truncation`.\n"
          ]
        },
        {
          "output_type": "stream",
          "name": "stdout",
          "text": [
            "Train : Loss 0.4172266721177627, Accuracy : 83.05 %, Precision : 0.8877042483660129\n"
          ]
        },
        {
          "output_type": "stream",
          "name": "stderr",
          "text": [
            "Truncation was not explicitly activated but `max_length` is provided a specific value, please use `truncation=True` to explicitly truncate examples to max length. Defaulting to 'longest_first' truncation strategy. If you encode pairs of sequences (GLUE-style) with the tokenizer you can select this strategy more precisely by providing a specific strategy to `truncation`.\n",
            "Truncation was not explicitly activated but `max_length` is provided a specific value, please use `truncation=True` to explicitly truncate examples to max length. Defaulting to 'longest_first' truncation strategy. If you encode pairs of sequences (GLUE-style) with the tokenizer you can select this strategy more precisely by providing a specific strategy to `truncation`.\n"
          ]
        },
        {
          "output_type": "stream",
          "name": "stdout",
          "text": [
            "Val : Loss :0.28361527000864345, Accuracy : 86.96 %, Precision : 0.8895833333333333\n",
            "\n",
            "Epoch 4/5\n",
            "--------------------\n"
          ]
        },
        {
          "output_type": "stream",
          "name": "stderr",
          "text": [
            "Truncation was not explicitly activated but `max_length` is provided a specific value, please use `truncation=True` to explicitly truncate examples to max length. Defaulting to 'longest_first' truncation strategy. If you encode pairs of sequences (GLUE-style) with the tokenizer you can select this strategy more precisely by providing a specific strategy to `truncation`.\n",
            "Truncation was not explicitly activated but `max_length` is provided a specific value, please use `truncation=True` to explicitly truncate examples to max length. Defaulting to 'longest_first' truncation strategy. If you encode pairs of sequences (GLUE-style) with the tokenizer you can select this strategy more precisely by providing a specific strategy to `truncation`.\n"
          ]
        },
        {
          "output_type": "stream",
          "name": "stdout",
          "text": [
            "Train : Loss 0.1692212207845467, Accuracy : 93.86 %, Precision : 0.9542075163398692\n"
          ]
        },
        {
          "output_type": "stream",
          "name": "stderr",
          "text": [
            "Truncation was not explicitly activated but `max_length` is provided a specific value, please use `truncation=True` to explicitly truncate examples to max length. Defaulting to 'longest_first' truncation strategy. If you encode pairs of sequences (GLUE-style) with the tokenizer you can select this strategy more precisely by providing a specific strategy to `truncation`.\n",
            "Truncation was not explicitly activated but `max_length` is provided a specific value, please use `truncation=True` to explicitly truncate examples to max length. Defaulting to 'longest_first' truncation strategy. If you encode pairs of sequences (GLUE-style) with the tokenizer you can select this strategy more precisely by providing a specific strategy to `truncation`.\n"
          ]
        },
        {
          "output_type": "stream",
          "name": "stdout",
          "text": [
            "Val : Loss :0.1854736547296246, Accuracy : 95.65 %, Precision : 0.9694444444444444\n",
            "\n",
            "Epoch 5/5\n",
            "--------------------\n"
          ]
        },
        {
          "output_type": "stream",
          "name": "stderr",
          "text": [
            "Truncation was not explicitly activated but `max_length` is provided a specific value, please use `truncation=True` to explicitly truncate examples to max length. Defaulting to 'longest_first' truncation strategy. If you encode pairs of sequences (GLUE-style) with the tokenizer you can select this strategy more precisely by providing a specific strategy to `truncation`.\n",
            "Truncation was not explicitly activated but `max_length` is provided a specific value, please use `truncation=True` to explicitly truncate examples to max length. Defaulting to 'longest_first' truncation strategy. If you encode pairs of sequences (GLUE-style) with the tokenizer you can select this strategy more precisely by providing a specific strategy to `truncation`.\n"
          ]
        },
        {
          "output_type": "stream",
          "name": "stdout",
          "text": [
            "Train : Loss 0.0823687363333781, Accuracy : 97.54 %, Precision : 0.981045751633987\n"
          ]
        },
        {
          "output_type": "stream",
          "name": "stderr",
          "text": [
            "Truncation was not explicitly activated but `max_length` is provided a specific value, please use `truncation=True` to explicitly truncate examples to max length. Defaulting to 'longest_first' truncation strategy. If you encode pairs of sequences (GLUE-style) with the tokenizer you can select this strategy more precisely by providing a specific strategy to `truncation`.\n",
            "Truncation was not explicitly activated but `max_length` is provided a specific value, please use `truncation=True` to explicitly truncate examples to max length. Defaulting to 'longest_first' truncation strategy. If you encode pairs of sequences (GLUE-style) with the tokenizer you can select this strategy more precisely by providing a specific strategy to `truncation`.\n"
          ]
        },
        {
          "output_type": "stream",
          "name": "stdout",
          "text": [
            "Val : Loss :0.20092381490394473, Accuracy : 95.65 %, Precision : 0.9694444444444444\n",
            "\n"
          ]
        }
      ]
    },
    {
      "cell_type": "code",
      "source": [
        "def testing(model, dataloader):\n",
        "  model = model.eval()\n",
        "  \n",
        "  contents = []\n",
        "  predictions = []\n",
        "  prediction_probs = []\n",
        "  real_values = []\n",
        "\n",
        "  with torch.no_grad():\n",
        "    for d in dataloader:\n",
        "\n",
        "      texts = d[\"content\"]\n",
        "      input_ids = d[\"input_ids\"].to(device)\n",
        "      attention_mask = d[\"attention_mask\"].to(device)\n",
        "      labels = d[\"labels\"].to(device)\n",
        "      feature_1 = d[\"feature_1\"].to(device)\n",
        "      feature_2 = d[\"feature_2\"].to(device)\n",
        "      feature_3 = d[\"feature_3\"].to(device)\n",
        "\n",
        "      outputs = model(\n",
        "        input_ids=input_ids,\n",
        "        attention_mask=attention_mask, \n",
        "        feature_1=feature_1, \n",
        "        feature_2=feature_2,\n",
        "        feature_3=feature_3\n",
        "      )\n",
        "      _, preds = torch.max(outputs, dim=1)\n",
        "\n",
        "      probs = F.softmax(outputs, dim=1)\n",
        "\n",
        "      contents.extend(texts)\n",
        "      predictions.extend(preds)\n",
        "      prediction_probs.extend(probs)\n",
        "      real_values.extend(labels)\n",
        "\n",
        "  predictions = torch.stack(predictions).cpu()\n",
        "  prediction_probs = torch.stack(prediction_probs).cpu()\n",
        "  real_values = torch.stack(real_values).cpu()\n",
        "  return contents, predictions, prediction_probs, real_values"
      ],
      "metadata": {
        "id": "PtgxKPrHMtN9"
      },
      "execution_count": 38,
      "outputs": []
    },
    {
      "cell_type": "code",
      "source": [
        "y_contents, y_pred, y_pred_probs, y_test = testing(\n",
        "  model,\n",
        "  test_dataloader\n",
        ")"
      ],
      "metadata": {
        "id": "YzKVh2urMLjT",
        "colab": {
          "base_uri": "https://localhost:8080/"
        },
        "outputId": "0832d356-ac2f-49e0-9e2b-5169e4b0166c"
      },
      "execution_count": 57,
      "outputs": [
        {
          "output_type": "stream",
          "name": "stderr",
          "text": [
            "Truncation was not explicitly activated but `max_length` is provided a specific value, please use `truncation=True` to explicitly truncate examples to max length. Defaulting to 'longest_first' truncation strategy. If you encode pairs of sequences (GLUE-style) with the tokenizer you can select this strategy more precisely by providing a specific strategy to `truncation`.\n",
            "Truncation was not explicitly activated but `max_length` is provided a specific value, please use `truncation=True` to explicitly truncate examples to max length. Defaulting to 'longest_first' truncation strategy. If you encode pairs of sequences (GLUE-style) with the tokenizer you can select this strategy more precisely by providing a specific strategy to `truncation`.\n"
          ]
        }
      ]
    }
  ],
  "metadata": {
    "colab": {
      "provenance": []
    },
    "kernelspec": {
      "display_name": "base",
      "language": "python",
      "name": "python3"
    },
    "language_info": {
      "codemirror_mode": {
        "name": "ipython",
        "version": 3
      },
      "file_extension": ".py",
      "mimetype": "text/x-python",
      "name": "python",
      "nbconvert_exporter": "python",
      "pygments_lexer": "ipython3",
      "version": "3.9.12"
    },
    "orig_nbformat": 4,
    "vscode": {
      "interpreter": {
        "hash": "c7348d43abd18e49db4462acea6057bd7f94ba9fb1f8e5afcc42e7585456bcc3"
      }
    },
    "gpuClass": "standard",
    "widgets": {
      "application/vnd.jupyter.widget-state+json": {
        "b0b74e1b9e6d41e2a04c9390ac78f9ab": {
          "model_module": "@jupyter-widgets/controls",
          "model_name": "HBoxModel",
          "model_module_version": "1.5.0",
          "state": {
            "_dom_classes": [],
            "_model_module": "@jupyter-widgets/controls",
            "_model_module_version": "1.5.0",
            "_model_name": "HBoxModel",
            "_view_count": null,
            "_view_module": "@jupyter-widgets/controls",
            "_view_module_version": "1.5.0",
            "_view_name": "HBoxView",
            "box_style": "",
            "children": [
              "IPY_MODEL_0405706cd4a14301befa8958925f2d55",
              "IPY_MODEL_f2e4388a37e546908a1deebdad15342e",
              "IPY_MODEL_b9f36f9b651c42d6945e48d52532826c"
            ],
            "layout": "IPY_MODEL_be2e1dadce41441ea64bb8ae9160fa6c"
          }
        },
        "0405706cd4a14301befa8958925f2d55": {
          "model_module": "@jupyter-widgets/controls",
          "model_name": "HTMLModel",
          "model_module_version": "1.5.0",
          "state": {
            "_dom_classes": [],
            "_model_module": "@jupyter-widgets/controls",
            "_model_module_version": "1.5.0",
            "_model_name": "HTMLModel",
            "_view_count": null,
            "_view_module": "@jupyter-widgets/controls",
            "_view_module_version": "1.5.0",
            "_view_name": "HTMLView",
            "description": "",
            "description_tooltip": null,
            "layout": "IPY_MODEL_888cdd04fd2f45f98aa6a97b2556cab1",
            "placeholder": "​",
            "style": "IPY_MODEL_12f90621d068414f8de085181379a681",
            "value": "100%"
          }
        },
        "f2e4388a37e546908a1deebdad15342e": {
          "model_module": "@jupyter-widgets/controls",
          "model_name": "FloatProgressModel",
          "model_module_version": "1.5.0",
          "state": {
            "_dom_classes": [],
            "_model_module": "@jupyter-widgets/controls",
            "_model_module_version": "1.5.0",
            "_model_name": "FloatProgressModel",
            "_view_count": null,
            "_view_module": "@jupyter-widgets/controls",
            "_view_module_version": "1.5.0",
            "_view_name": "ProgressView",
            "bar_style": "success",
            "description": "",
            "description_tooltip": null,
            "layout": "IPY_MODEL_9abde32b4a994f769b905554843942bc",
            "max": 567,
            "min": 0,
            "orientation": "horizontal",
            "style": "IPY_MODEL_d72ec3f78ae2483fac4fa419d52c7e8d",
            "value": 567
          }
        },
        "b9f36f9b651c42d6945e48d52532826c": {
          "model_module": "@jupyter-widgets/controls",
          "model_name": "HTMLModel",
          "model_module_version": "1.5.0",
          "state": {
            "_dom_classes": [],
            "_model_module": "@jupyter-widgets/controls",
            "_model_module_version": "1.5.0",
            "_model_name": "HTMLModel",
            "_view_count": null,
            "_view_module": "@jupyter-widgets/controls",
            "_view_module_version": "1.5.0",
            "_view_name": "HTMLView",
            "description": "",
            "description_tooltip": null,
            "layout": "IPY_MODEL_c49630f3545741fc9f2be1da4f703180",
            "placeholder": "​",
            "style": "IPY_MODEL_ad1e05c7ac1f46908f977f72dfcd4851",
            "value": " 567/567 [04:09&lt;00:00,  1.27it/s]"
          }
        },
        "be2e1dadce41441ea64bb8ae9160fa6c": {
          "model_module": "@jupyter-widgets/base",
          "model_name": "LayoutModel",
          "model_module_version": "1.2.0",
          "state": {
            "_model_module": "@jupyter-widgets/base",
            "_model_module_version": "1.2.0",
            "_model_name": "LayoutModel",
            "_view_count": null,
            "_view_module": "@jupyter-widgets/base",
            "_view_module_version": "1.2.0",
            "_view_name": "LayoutView",
            "align_content": null,
            "align_items": null,
            "align_self": null,
            "border": null,
            "bottom": null,
            "display": null,
            "flex": null,
            "flex_flow": null,
            "grid_area": null,
            "grid_auto_columns": null,
            "grid_auto_flow": null,
            "grid_auto_rows": null,
            "grid_column": null,
            "grid_gap": null,
            "grid_row": null,
            "grid_template_areas": null,
            "grid_template_columns": null,
            "grid_template_rows": null,
            "height": null,
            "justify_content": null,
            "justify_items": null,
            "left": null,
            "margin": null,
            "max_height": null,
            "max_width": null,
            "min_height": null,
            "min_width": null,
            "object_fit": null,
            "object_position": null,
            "order": null,
            "overflow": null,
            "overflow_x": null,
            "overflow_y": null,
            "padding": null,
            "right": null,
            "top": null,
            "visibility": null,
            "width": null
          }
        },
        "888cdd04fd2f45f98aa6a97b2556cab1": {
          "model_module": "@jupyter-widgets/base",
          "model_name": "LayoutModel",
          "model_module_version": "1.2.0",
          "state": {
            "_model_module": "@jupyter-widgets/base",
            "_model_module_version": "1.2.0",
            "_model_name": "LayoutModel",
            "_view_count": null,
            "_view_module": "@jupyter-widgets/base",
            "_view_module_version": "1.2.0",
            "_view_name": "LayoutView",
            "align_content": null,
            "align_items": null,
            "align_self": null,
            "border": null,
            "bottom": null,
            "display": null,
            "flex": null,
            "flex_flow": null,
            "grid_area": null,
            "grid_auto_columns": null,
            "grid_auto_flow": null,
            "grid_auto_rows": null,
            "grid_column": null,
            "grid_gap": null,
            "grid_row": null,
            "grid_template_areas": null,
            "grid_template_columns": null,
            "grid_template_rows": null,
            "height": null,
            "justify_content": null,
            "justify_items": null,
            "left": null,
            "margin": null,
            "max_height": null,
            "max_width": null,
            "min_height": null,
            "min_width": null,
            "object_fit": null,
            "object_position": null,
            "order": null,
            "overflow": null,
            "overflow_x": null,
            "overflow_y": null,
            "padding": null,
            "right": null,
            "top": null,
            "visibility": null,
            "width": null
          }
        },
        "12f90621d068414f8de085181379a681": {
          "model_module": "@jupyter-widgets/controls",
          "model_name": "DescriptionStyleModel",
          "model_module_version": "1.5.0",
          "state": {
            "_model_module": "@jupyter-widgets/controls",
            "_model_module_version": "1.5.0",
            "_model_name": "DescriptionStyleModel",
            "_view_count": null,
            "_view_module": "@jupyter-widgets/base",
            "_view_module_version": "1.2.0",
            "_view_name": "StyleView",
            "description_width": ""
          }
        },
        "9abde32b4a994f769b905554843942bc": {
          "model_module": "@jupyter-widgets/base",
          "model_name": "LayoutModel",
          "model_module_version": "1.2.0",
          "state": {
            "_model_module": "@jupyter-widgets/base",
            "_model_module_version": "1.2.0",
            "_model_name": "LayoutModel",
            "_view_count": null,
            "_view_module": "@jupyter-widgets/base",
            "_view_module_version": "1.2.0",
            "_view_name": "LayoutView",
            "align_content": null,
            "align_items": null,
            "align_self": null,
            "border": null,
            "bottom": null,
            "display": null,
            "flex": null,
            "flex_flow": null,
            "grid_area": null,
            "grid_auto_columns": null,
            "grid_auto_flow": null,
            "grid_auto_rows": null,
            "grid_column": null,
            "grid_gap": null,
            "grid_row": null,
            "grid_template_areas": null,
            "grid_template_columns": null,
            "grid_template_rows": null,
            "height": null,
            "justify_content": null,
            "justify_items": null,
            "left": null,
            "margin": null,
            "max_height": null,
            "max_width": null,
            "min_height": null,
            "min_width": null,
            "object_fit": null,
            "object_position": null,
            "order": null,
            "overflow": null,
            "overflow_x": null,
            "overflow_y": null,
            "padding": null,
            "right": null,
            "top": null,
            "visibility": null,
            "width": null
          }
        },
        "d72ec3f78ae2483fac4fa419d52c7e8d": {
          "model_module": "@jupyter-widgets/controls",
          "model_name": "ProgressStyleModel",
          "model_module_version": "1.5.0",
          "state": {
            "_model_module": "@jupyter-widgets/controls",
            "_model_module_version": "1.5.0",
            "_model_name": "ProgressStyleModel",
            "_view_count": null,
            "_view_module": "@jupyter-widgets/base",
            "_view_module_version": "1.2.0",
            "_view_name": "StyleView",
            "bar_color": null,
            "description_width": ""
          }
        },
        "c49630f3545741fc9f2be1da4f703180": {
          "model_module": "@jupyter-widgets/base",
          "model_name": "LayoutModel",
          "model_module_version": "1.2.0",
          "state": {
            "_model_module": "@jupyter-widgets/base",
            "_model_module_version": "1.2.0",
            "_model_name": "LayoutModel",
            "_view_count": null,
            "_view_module": "@jupyter-widgets/base",
            "_view_module_version": "1.2.0",
            "_view_name": "LayoutView",
            "align_content": null,
            "align_items": null,
            "align_self": null,
            "border": null,
            "bottom": null,
            "display": null,
            "flex": null,
            "flex_flow": null,
            "grid_area": null,
            "grid_auto_columns": null,
            "grid_auto_flow": null,
            "grid_auto_rows": null,
            "grid_column": null,
            "grid_gap": null,
            "grid_row": null,
            "grid_template_areas": null,
            "grid_template_columns": null,
            "grid_template_rows": null,
            "height": null,
            "justify_content": null,
            "justify_items": null,
            "left": null,
            "margin": null,
            "max_height": null,
            "max_width": null,
            "min_height": null,
            "min_width": null,
            "object_fit": null,
            "object_position": null,
            "order": null,
            "overflow": null,
            "overflow_x": null,
            "overflow_y": null,
            "padding": null,
            "right": null,
            "top": null,
            "visibility": null,
            "width": null
          }
        },
        "ad1e05c7ac1f46908f977f72dfcd4851": {
          "model_module": "@jupyter-widgets/controls",
          "model_name": "DescriptionStyleModel",
          "model_module_version": "1.5.0",
          "state": {
            "_model_module": "@jupyter-widgets/controls",
            "_model_module_version": "1.5.0",
            "_model_name": "DescriptionStyleModel",
            "_view_count": null,
            "_view_module": "@jupyter-widgets/base",
            "_view_module_version": "1.2.0",
            "_view_name": "StyleView",
            "description_width": ""
          }
        },
        "2dc7c217fb6f45b28469d2cf3c717317": {
          "model_module": "@jupyter-widgets/controls",
          "model_name": "HBoxModel",
          "model_module_version": "1.5.0",
          "state": {
            "_dom_classes": [],
            "_model_module": "@jupyter-widgets/controls",
            "_model_module_version": "1.5.0",
            "_model_name": "HBoxModel",
            "_view_count": null,
            "_view_module": "@jupyter-widgets/controls",
            "_view_module_version": "1.5.0",
            "_view_name": "HBoxView",
            "box_style": "",
            "children": [
              "IPY_MODEL_2417e7586440424d939b2a4d42363aca",
              "IPY_MODEL_0748fa894b334d0c9a066969eae79669",
              "IPY_MODEL_c87889765aab4e4c9945241238244b3f"
            ],
            "layout": "IPY_MODEL_b1d4466e9fe5491ca8abc1e1ac072a72"
          }
        },
        "2417e7586440424d939b2a4d42363aca": {
          "model_module": "@jupyter-widgets/controls",
          "model_name": "HTMLModel",
          "model_module_version": "1.5.0",
          "state": {
            "_dom_classes": [],
            "_model_module": "@jupyter-widgets/controls",
            "_model_module_version": "1.5.0",
            "_model_name": "HTMLModel",
            "_view_count": null,
            "_view_module": "@jupyter-widgets/controls",
            "_view_module_version": "1.5.0",
            "_view_name": "HTMLView",
            "description": "",
            "description_tooltip": null,
            "layout": "IPY_MODEL_35d751edd71f4a50bdfdb96cd26c4b39",
            "placeholder": "​",
            "style": "IPY_MODEL_aa21eba308b34a5483c3736efe7c8db9",
            "value": "Downloading (…)okenizer_config.json: 100%"
          }
        },
        "0748fa894b334d0c9a066969eae79669": {
          "model_module": "@jupyter-widgets/controls",
          "model_name": "FloatProgressModel",
          "model_module_version": "1.5.0",
          "state": {
            "_dom_classes": [],
            "_model_module": "@jupyter-widgets/controls",
            "_model_module_version": "1.5.0",
            "_model_name": "FloatProgressModel",
            "_view_count": null,
            "_view_module": "@jupyter-widgets/controls",
            "_view_module_version": "1.5.0",
            "_view_name": "ProgressView",
            "bar_style": "success",
            "description": "",
            "description_tooltip": null,
            "layout": "IPY_MODEL_f52dbeedd76a43d288e7e709fe6427c8",
            "max": 28,
            "min": 0,
            "orientation": "horizontal",
            "style": "IPY_MODEL_b36208bfb73b47a09b0d9654149f9971",
            "value": 28
          }
        },
        "c87889765aab4e4c9945241238244b3f": {
          "model_module": "@jupyter-widgets/controls",
          "model_name": "HTMLModel",
          "model_module_version": "1.5.0",
          "state": {
            "_dom_classes": [],
            "_model_module": "@jupyter-widgets/controls",
            "_model_module_version": "1.5.0",
            "_model_name": "HTMLModel",
            "_view_count": null,
            "_view_module": "@jupyter-widgets/controls",
            "_view_module_version": "1.5.0",
            "_view_name": "HTMLView",
            "description": "",
            "description_tooltip": null,
            "layout": "IPY_MODEL_1065f02d6b7b490d9f0f6b4455e723fd",
            "placeholder": "​",
            "style": "IPY_MODEL_1c3b219093ec49559467c520087020e9",
            "value": " 28.0/28.0 [00:00&lt;00:00, 2.02kB/s]"
          }
        },
        "b1d4466e9fe5491ca8abc1e1ac072a72": {
          "model_module": "@jupyter-widgets/base",
          "model_name": "LayoutModel",
          "model_module_version": "1.2.0",
          "state": {
            "_model_module": "@jupyter-widgets/base",
            "_model_module_version": "1.2.0",
            "_model_name": "LayoutModel",
            "_view_count": null,
            "_view_module": "@jupyter-widgets/base",
            "_view_module_version": "1.2.0",
            "_view_name": "LayoutView",
            "align_content": null,
            "align_items": null,
            "align_self": null,
            "border": null,
            "bottom": null,
            "display": null,
            "flex": null,
            "flex_flow": null,
            "grid_area": null,
            "grid_auto_columns": null,
            "grid_auto_flow": null,
            "grid_auto_rows": null,
            "grid_column": null,
            "grid_gap": null,
            "grid_row": null,
            "grid_template_areas": null,
            "grid_template_columns": null,
            "grid_template_rows": null,
            "height": null,
            "justify_content": null,
            "justify_items": null,
            "left": null,
            "margin": null,
            "max_height": null,
            "max_width": null,
            "min_height": null,
            "min_width": null,
            "object_fit": null,
            "object_position": null,
            "order": null,
            "overflow": null,
            "overflow_x": null,
            "overflow_y": null,
            "padding": null,
            "right": null,
            "top": null,
            "visibility": null,
            "width": null
          }
        },
        "35d751edd71f4a50bdfdb96cd26c4b39": {
          "model_module": "@jupyter-widgets/base",
          "model_name": "LayoutModel",
          "model_module_version": "1.2.0",
          "state": {
            "_model_module": "@jupyter-widgets/base",
            "_model_module_version": "1.2.0",
            "_model_name": "LayoutModel",
            "_view_count": null,
            "_view_module": "@jupyter-widgets/base",
            "_view_module_version": "1.2.0",
            "_view_name": "LayoutView",
            "align_content": null,
            "align_items": null,
            "align_self": null,
            "border": null,
            "bottom": null,
            "display": null,
            "flex": null,
            "flex_flow": null,
            "grid_area": null,
            "grid_auto_columns": null,
            "grid_auto_flow": null,
            "grid_auto_rows": null,
            "grid_column": null,
            "grid_gap": null,
            "grid_row": null,
            "grid_template_areas": null,
            "grid_template_columns": null,
            "grid_template_rows": null,
            "height": null,
            "justify_content": null,
            "justify_items": null,
            "left": null,
            "margin": null,
            "max_height": null,
            "max_width": null,
            "min_height": null,
            "min_width": null,
            "object_fit": null,
            "object_position": null,
            "order": null,
            "overflow": null,
            "overflow_x": null,
            "overflow_y": null,
            "padding": null,
            "right": null,
            "top": null,
            "visibility": null,
            "width": null
          }
        },
        "aa21eba308b34a5483c3736efe7c8db9": {
          "model_module": "@jupyter-widgets/controls",
          "model_name": "DescriptionStyleModel",
          "model_module_version": "1.5.0",
          "state": {
            "_model_module": "@jupyter-widgets/controls",
            "_model_module_version": "1.5.0",
            "_model_name": "DescriptionStyleModel",
            "_view_count": null,
            "_view_module": "@jupyter-widgets/base",
            "_view_module_version": "1.2.0",
            "_view_name": "StyleView",
            "description_width": ""
          }
        },
        "f52dbeedd76a43d288e7e709fe6427c8": {
          "model_module": "@jupyter-widgets/base",
          "model_name": "LayoutModel",
          "model_module_version": "1.2.0",
          "state": {
            "_model_module": "@jupyter-widgets/base",
            "_model_module_version": "1.2.0",
            "_model_name": "LayoutModel",
            "_view_count": null,
            "_view_module": "@jupyter-widgets/base",
            "_view_module_version": "1.2.0",
            "_view_name": "LayoutView",
            "align_content": null,
            "align_items": null,
            "align_self": null,
            "border": null,
            "bottom": null,
            "display": null,
            "flex": null,
            "flex_flow": null,
            "grid_area": null,
            "grid_auto_columns": null,
            "grid_auto_flow": null,
            "grid_auto_rows": null,
            "grid_column": null,
            "grid_gap": null,
            "grid_row": null,
            "grid_template_areas": null,
            "grid_template_columns": null,
            "grid_template_rows": null,
            "height": null,
            "justify_content": null,
            "justify_items": null,
            "left": null,
            "margin": null,
            "max_height": null,
            "max_width": null,
            "min_height": null,
            "min_width": null,
            "object_fit": null,
            "object_position": null,
            "order": null,
            "overflow": null,
            "overflow_x": null,
            "overflow_y": null,
            "padding": null,
            "right": null,
            "top": null,
            "visibility": null,
            "width": null
          }
        },
        "b36208bfb73b47a09b0d9654149f9971": {
          "model_module": "@jupyter-widgets/controls",
          "model_name": "ProgressStyleModel",
          "model_module_version": "1.5.0",
          "state": {
            "_model_module": "@jupyter-widgets/controls",
            "_model_module_version": "1.5.0",
            "_model_name": "ProgressStyleModel",
            "_view_count": null,
            "_view_module": "@jupyter-widgets/base",
            "_view_module_version": "1.2.0",
            "_view_name": "StyleView",
            "bar_color": null,
            "description_width": ""
          }
        },
        "1065f02d6b7b490d9f0f6b4455e723fd": {
          "model_module": "@jupyter-widgets/base",
          "model_name": "LayoutModel",
          "model_module_version": "1.2.0",
          "state": {
            "_model_module": "@jupyter-widgets/base",
            "_model_module_version": "1.2.0",
            "_model_name": "LayoutModel",
            "_view_count": null,
            "_view_module": "@jupyter-widgets/base",
            "_view_module_version": "1.2.0",
            "_view_name": "LayoutView",
            "align_content": null,
            "align_items": null,
            "align_self": null,
            "border": null,
            "bottom": null,
            "display": null,
            "flex": null,
            "flex_flow": null,
            "grid_area": null,
            "grid_auto_columns": null,
            "grid_auto_flow": null,
            "grid_auto_rows": null,
            "grid_column": null,
            "grid_gap": null,
            "grid_row": null,
            "grid_template_areas": null,
            "grid_template_columns": null,
            "grid_template_rows": null,
            "height": null,
            "justify_content": null,
            "justify_items": null,
            "left": null,
            "margin": null,
            "max_height": null,
            "max_width": null,
            "min_height": null,
            "min_width": null,
            "object_fit": null,
            "object_position": null,
            "order": null,
            "overflow": null,
            "overflow_x": null,
            "overflow_y": null,
            "padding": null,
            "right": null,
            "top": null,
            "visibility": null,
            "width": null
          }
        },
        "1c3b219093ec49559467c520087020e9": {
          "model_module": "@jupyter-widgets/controls",
          "model_name": "DescriptionStyleModel",
          "model_module_version": "1.5.0",
          "state": {
            "_model_module": "@jupyter-widgets/controls",
            "_model_module_version": "1.5.0",
            "_model_name": "DescriptionStyleModel",
            "_view_count": null,
            "_view_module": "@jupyter-widgets/base",
            "_view_module_version": "1.2.0",
            "_view_name": "StyleView",
            "description_width": ""
          }
        },
        "46a700b4d340460385a38bf23626f4a5": {
          "model_module": "@jupyter-widgets/controls",
          "model_name": "HBoxModel",
          "model_module_version": "1.5.0",
          "state": {
            "_dom_classes": [],
            "_model_module": "@jupyter-widgets/controls",
            "_model_module_version": "1.5.0",
            "_model_name": "HBoxModel",
            "_view_count": null,
            "_view_module": "@jupyter-widgets/controls",
            "_view_module_version": "1.5.0",
            "_view_name": "HBoxView",
            "box_style": "",
            "children": [
              "IPY_MODEL_122fe654645c4dd791853075db4e20c1",
              "IPY_MODEL_c04931a55c804a5cacf65e149fc4f342",
              "IPY_MODEL_bb05ea6d42894076ba6e46b6fe05bf03"
            ],
            "layout": "IPY_MODEL_1ac8a4ba4e81406eb1b916a9b19ed7b9"
          }
        },
        "122fe654645c4dd791853075db4e20c1": {
          "model_module": "@jupyter-widgets/controls",
          "model_name": "HTMLModel",
          "model_module_version": "1.5.0",
          "state": {
            "_dom_classes": [],
            "_model_module": "@jupyter-widgets/controls",
            "_model_module_version": "1.5.0",
            "_model_name": "HTMLModel",
            "_view_count": null,
            "_view_module": "@jupyter-widgets/controls",
            "_view_module_version": "1.5.0",
            "_view_name": "HTMLView",
            "description": "",
            "description_tooltip": null,
            "layout": "IPY_MODEL_e5359c763d8e4214ba136ba75b0c1c73",
            "placeholder": "​",
            "style": "IPY_MODEL_5d25916ada874fab981bf6d337ba9da7",
            "value": "Downloading (…)lve/main/config.json: 100%"
          }
        },
        "c04931a55c804a5cacf65e149fc4f342": {
          "model_module": "@jupyter-widgets/controls",
          "model_name": "FloatProgressModel",
          "model_module_version": "1.5.0",
          "state": {
            "_dom_classes": [],
            "_model_module": "@jupyter-widgets/controls",
            "_model_module_version": "1.5.0",
            "_model_name": "FloatProgressModel",
            "_view_count": null,
            "_view_module": "@jupyter-widgets/controls",
            "_view_module_version": "1.5.0",
            "_view_name": "ProgressView",
            "bar_style": "success",
            "description": "",
            "description_tooltip": null,
            "layout": "IPY_MODEL_427bd25b7a3e461fa02d8dd1be221298",
            "max": 570,
            "min": 0,
            "orientation": "horizontal",
            "style": "IPY_MODEL_73f7a2c50a5348189ab91576165d5251",
            "value": 570
          }
        },
        "bb05ea6d42894076ba6e46b6fe05bf03": {
          "model_module": "@jupyter-widgets/controls",
          "model_name": "HTMLModel",
          "model_module_version": "1.5.0",
          "state": {
            "_dom_classes": [],
            "_model_module": "@jupyter-widgets/controls",
            "_model_module_version": "1.5.0",
            "_model_name": "HTMLModel",
            "_view_count": null,
            "_view_module": "@jupyter-widgets/controls",
            "_view_module_version": "1.5.0",
            "_view_name": "HTMLView",
            "description": "",
            "description_tooltip": null,
            "layout": "IPY_MODEL_74b1bb3d624d44f5ac83afcc16fc937f",
            "placeholder": "​",
            "style": "IPY_MODEL_ca3ec3f2dbb54bf1a60280bb3a51ece4",
            "value": " 570/570 [00:00&lt;00:00, 41.5kB/s]"
          }
        },
        "1ac8a4ba4e81406eb1b916a9b19ed7b9": {
          "model_module": "@jupyter-widgets/base",
          "model_name": "LayoutModel",
          "model_module_version": "1.2.0",
          "state": {
            "_model_module": "@jupyter-widgets/base",
            "_model_module_version": "1.2.0",
            "_model_name": "LayoutModel",
            "_view_count": null,
            "_view_module": "@jupyter-widgets/base",
            "_view_module_version": "1.2.0",
            "_view_name": "LayoutView",
            "align_content": null,
            "align_items": null,
            "align_self": null,
            "border": null,
            "bottom": null,
            "display": null,
            "flex": null,
            "flex_flow": null,
            "grid_area": null,
            "grid_auto_columns": null,
            "grid_auto_flow": null,
            "grid_auto_rows": null,
            "grid_column": null,
            "grid_gap": null,
            "grid_row": null,
            "grid_template_areas": null,
            "grid_template_columns": null,
            "grid_template_rows": null,
            "height": null,
            "justify_content": null,
            "justify_items": null,
            "left": null,
            "margin": null,
            "max_height": null,
            "max_width": null,
            "min_height": null,
            "min_width": null,
            "object_fit": null,
            "object_position": null,
            "order": null,
            "overflow": null,
            "overflow_x": null,
            "overflow_y": null,
            "padding": null,
            "right": null,
            "top": null,
            "visibility": null,
            "width": null
          }
        },
        "e5359c763d8e4214ba136ba75b0c1c73": {
          "model_module": "@jupyter-widgets/base",
          "model_name": "LayoutModel",
          "model_module_version": "1.2.0",
          "state": {
            "_model_module": "@jupyter-widgets/base",
            "_model_module_version": "1.2.0",
            "_model_name": "LayoutModel",
            "_view_count": null,
            "_view_module": "@jupyter-widgets/base",
            "_view_module_version": "1.2.0",
            "_view_name": "LayoutView",
            "align_content": null,
            "align_items": null,
            "align_self": null,
            "border": null,
            "bottom": null,
            "display": null,
            "flex": null,
            "flex_flow": null,
            "grid_area": null,
            "grid_auto_columns": null,
            "grid_auto_flow": null,
            "grid_auto_rows": null,
            "grid_column": null,
            "grid_gap": null,
            "grid_row": null,
            "grid_template_areas": null,
            "grid_template_columns": null,
            "grid_template_rows": null,
            "height": null,
            "justify_content": null,
            "justify_items": null,
            "left": null,
            "margin": null,
            "max_height": null,
            "max_width": null,
            "min_height": null,
            "min_width": null,
            "object_fit": null,
            "object_position": null,
            "order": null,
            "overflow": null,
            "overflow_x": null,
            "overflow_y": null,
            "padding": null,
            "right": null,
            "top": null,
            "visibility": null,
            "width": null
          }
        },
        "5d25916ada874fab981bf6d337ba9da7": {
          "model_module": "@jupyter-widgets/controls",
          "model_name": "DescriptionStyleModel",
          "model_module_version": "1.5.0",
          "state": {
            "_model_module": "@jupyter-widgets/controls",
            "_model_module_version": "1.5.0",
            "_model_name": "DescriptionStyleModel",
            "_view_count": null,
            "_view_module": "@jupyter-widgets/base",
            "_view_module_version": "1.2.0",
            "_view_name": "StyleView",
            "description_width": ""
          }
        },
        "427bd25b7a3e461fa02d8dd1be221298": {
          "model_module": "@jupyter-widgets/base",
          "model_name": "LayoutModel",
          "model_module_version": "1.2.0",
          "state": {
            "_model_module": "@jupyter-widgets/base",
            "_model_module_version": "1.2.0",
            "_model_name": "LayoutModel",
            "_view_count": null,
            "_view_module": "@jupyter-widgets/base",
            "_view_module_version": "1.2.0",
            "_view_name": "LayoutView",
            "align_content": null,
            "align_items": null,
            "align_self": null,
            "border": null,
            "bottom": null,
            "display": null,
            "flex": null,
            "flex_flow": null,
            "grid_area": null,
            "grid_auto_columns": null,
            "grid_auto_flow": null,
            "grid_auto_rows": null,
            "grid_column": null,
            "grid_gap": null,
            "grid_row": null,
            "grid_template_areas": null,
            "grid_template_columns": null,
            "grid_template_rows": null,
            "height": null,
            "justify_content": null,
            "justify_items": null,
            "left": null,
            "margin": null,
            "max_height": null,
            "max_width": null,
            "min_height": null,
            "min_width": null,
            "object_fit": null,
            "object_position": null,
            "order": null,
            "overflow": null,
            "overflow_x": null,
            "overflow_y": null,
            "padding": null,
            "right": null,
            "top": null,
            "visibility": null,
            "width": null
          }
        },
        "73f7a2c50a5348189ab91576165d5251": {
          "model_module": "@jupyter-widgets/controls",
          "model_name": "ProgressStyleModel",
          "model_module_version": "1.5.0",
          "state": {
            "_model_module": "@jupyter-widgets/controls",
            "_model_module_version": "1.5.0",
            "_model_name": "ProgressStyleModel",
            "_view_count": null,
            "_view_module": "@jupyter-widgets/base",
            "_view_module_version": "1.2.0",
            "_view_name": "StyleView",
            "bar_color": null,
            "description_width": ""
          }
        },
        "74b1bb3d624d44f5ac83afcc16fc937f": {
          "model_module": "@jupyter-widgets/base",
          "model_name": "LayoutModel",
          "model_module_version": "1.2.0",
          "state": {
            "_model_module": "@jupyter-widgets/base",
            "_model_module_version": "1.2.0",
            "_model_name": "LayoutModel",
            "_view_count": null,
            "_view_module": "@jupyter-widgets/base",
            "_view_module_version": "1.2.0",
            "_view_name": "LayoutView",
            "align_content": null,
            "align_items": null,
            "align_self": null,
            "border": null,
            "bottom": null,
            "display": null,
            "flex": null,
            "flex_flow": null,
            "grid_area": null,
            "grid_auto_columns": null,
            "grid_auto_flow": null,
            "grid_auto_rows": null,
            "grid_column": null,
            "grid_gap": null,
            "grid_row": null,
            "grid_template_areas": null,
            "grid_template_columns": null,
            "grid_template_rows": null,
            "height": null,
            "justify_content": null,
            "justify_items": null,
            "left": null,
            "margin": null,
            "max_height": null,
            "max_width": null,
            "min_height": null,
            "min_width": null,
            "object_fit": null,
            "object_position": null,
            "order": null,
            "overflow": null,
            "overflow_x": null,
            "overflow_y": null,
            "padding": null,
            "right": null,
            "top": null,
            "visibility": null,
            "width": null
          }
        },
        "ca3ec3f2dbb54bf1a60280bb3a51ece4": {
          "model_module": "@jupyter-widgets/controls",
          "model_name": "DescriptionStyleModel",
          "model_module_version": "1.5.0",
          "state": {
            "_model_module": "@jupyter-widgets/controls",
            "_model_module_version": "1.5.0",
            "_model_name": "DescriptionStyleModel",
            "_view_count": null,
            "_view_module": "@jupyter-widgets/base",
            "_view_module_version": "1.2.0",
            "_view_name": "StyleView",
            "description_width": ""
          }
        },
        "853d3012885f4185ba44fdcfeb7a6af3": {
          "model_module": "@jupyter-widgets/controls",
          "model_name": "HBoxModel",
          "model_module_version": "1.5.0",
          "state": {
            "_dom_classes": [],
            "_model_module": "@jupyter-widgets/controls",
            "_model_module_version": "1.5.0",
            "_model_name": "HBoxModel",
            "_view_count": null,
            "_view_module": "@jupyter-widgets/controls",
            "_view_module_version": "1.5.0",
            "_view_name": "HBoxView",
            "box_style": "",
            "children": [
              "IPY_MODEL_160fdff6fe93439dad0e508bc3c9617b",
              "IPY_MODEL_7b3e9e11f72e41fd8e282bf5c0fd474e",
              "IPY_MODEL_886bd39ee8854f0dbd449870e7dcbe74"
            ],
            "layout": "IPY_MODEL_20813ff3b3aa479f84c46c7873745b53"
          }
        },
        "160fdff6fe93439dad0e508bc3c9617b": {
          "model_module": "@jupyter-widgets/controls",
          "model_name": "HTMLModel",
          "model_module_version": "1.5.0",
          "state": {
            "_dom_classes": [],
            "_model_module": "@jupyter-widgets/controls",
            "_model_module_version": "1.5.0",
            "_model_name": "HTMLModel",
            "_view_count": null,
            "_view_module": "@jupyter-widgets/controls",
            "_view_module_version": "1.5.0",
            "_view_name": "HTMLView",
            "description": "",
            "description_tooltip": null,
            "layout": "IPY_MODEL_6e7057aa89d34791aff1f7af5faf9857",
            "placeholder": "​",
            "style": "IPY_MODEL_bc0492f70b4b401dacb7fa1048c02966",
            "value": "Downloading (…)solve/main/vocab.txt: 100%"
          }
        },
        "7b3e9e11f72e41fd8e282bf5c0fd474e": {
          "model_module": "@jupyter-widgets/controls",
          "model_name": "FloatProgressModel",
          "model_module_version": "1.5.0",
          "state": {
            "_dom_classes": [],
            "_model_module": "@jupyter-widgets/controls",
            "_model_module_version": "1.5.0",
            "_model_name": "FloatProgressModel",
            "_view_count": null,
            "_view_module": "@jupyter-widgets/controls",
            "_view_module_version": "1.5.0",
            "_view_name": "ProgressView",
            "bar_style": "success",
            "description": "",
            "description_tooltip": null,
            "layout": "IPY_MODEL_11dcb33f086d4cd8b48b7d26478d40ec",
            "max": 231508,
            "min": 0,
            "orientation": "horizontal",
            "style": "IPY_MODEL_9131d913b2734e8ab4fe57cf8ea819f6",
            "value": 231508
          }
        },
        "886bd39ee8854f0dbd449870e7dcbe74": {
          "model_module": "@jupyter-widgets/controls",
          "model_name": "HTMLModel",
          "model_module_version": "1.5.0",
          "state": {
            "_dom_classes": [],
            "_model_module": "@jupyter-widgets/controls",
            "_model_module_version": "1.5.0",
            "_model_name": "HTMLModel",
            "_view_count": null,
            "_view_module": "@jupyter-widgets/controls",
            "_view_module_version": "1.5.0",
            "_view_name": "HTMLView",
            "description": "",
            "description_tooltip": null,
            "layout": "IPY_MODEL_a4e0c3571e074f57a021d4ed19e60d7a",
            "placeholder": "​",
            "style": "IPY_MODEL_496277d87210442ba26563370a9fac5b",
            "value": " 232k/232k [00:00&lt;00:00, 1.76MB/s]"
          }
        },
        "20813ff3b3aa479f84c46c7873745b53": {
          "model_module": "@jupyter-widgets/base",
          "model_name": "LayoutModel",
          "model_module_version": "1.2.0",
          "state": {
            "_model_module": "@jupyter-widgets/base",
            "_model_module_version": "1.2.0",
            "_model_name": "LayoutModel",
            "_view_count": null,
            "_view_module": "@jupyter-widgets/base",
            "_view_module_version": "1.2.0",
            "_view_name": "LayoutView",
            "align_content": null,
            "align_items": null,
            "align_self": null,
            "border": null,
            "bottom": null,
            "display": null,
            "flex": null,
            "flex_flow": null,
            "grid_area": null,
            "grid_auto_columns": null,
            "grid_auto_flow": null,
            "grid_auto_rows": null,
            "grid_column": null,
            "grid_gap": null,
            "grid_row": null,
            "grid_template_areas": null,
            "grid_template_columns": null,
            "grid_template_rows": null,
            "height": null,
            "justify_content": null,
            "justify_items": null,
            "left": null,
            "margin": null,
            "max_height": null,
            "max_width": null,
            "min_height": null,
            "min_width": null,
            "object_fit": null,
            "object_position": null,
            "order": null,
            "overflow": null,
            "overflow_x": null,
            "overflow_y": null,
            "padding": null,
            "right": null,
            "top": null,
            "visibility": null,
            "width": null
          }
        },
        "6e7057aa89d34791aff1f7af5faf9857": {
          "model_module": "@jupyter-widgets/base",
          "model_name": "LayoutModel",
          "model_module_version": "1.2.0",
          "state": {
            "_model_module": "@jupyter-widgets/base",
            "_model_module_version": "1.2.0",
            "_model_name": "LayoutModel",
            "_view_count": null,
            "_view_module": "@jupyter-widgets/base",
            "_view_module_version": "1.2.0",
            "_view_name": "LayoutView",
            "align_content": null,
            "align_items": null,
            "align_self": null,
            "border": null,
            "bottom": null,
            "display": null,
            "flex": null,
            "flex_flow": null,
            "grid_area": null,
            "grid_auto_columns": null,
            "grid_auto_flow": null,
            "grid_auto_rows": null,
            "grid_column": null,
            "grid_gap": null,
            "grid_row": null,
            "grid_template_areas": null,
            "grid_template_columns": null,
            "grid_template_rows": null,
            "height": null,
            "justify_content": null,
            "justify_items": null,
            "left": null,
            "margin": null,
            "max_height": null,
            "max_width": null,
            "min_height": null,
            "min_width": null,
            "object_fit": null,
            "object_position": null,
            "order": null,
            "overflow": null,
            "overflow_x": null,
            "overflow_y": null,
            "padding": null,
            "right": null,
            "top": null,
            "visibility": null,
            "width": null
          }
        },
        "bc0492f70b4b401dacb7fa1048c02966": {
          "model_module": "@jupyter-widgets/controls",
          "model_name": "DescriptionStyleModel",
          "model_module_version": "1.5.0",
          "state": {
            "_model_module": "@jupyter-widgets/controls",
            "_model_module_version": "1.5.0",
            "_model_name": "DescriptionStyleModel",
            "_view_count": null,
            "_view_module": "@jupyter-widgets/base",
            "_view_module_version": "1.2.0",
            "_view_name": "StyleView",
            "description_width": ""
          }
        },
        "11dcb33f086d4cd8b48b7d26478d40ec": {
          "model_module": "@jupyter-widgets/base",
          "model_name": "LayoutModel",
          "model_module_version": "1.2.0",
          "state": {
            "_model_module": "@jupyter-widgets/base",
            "_model_module_version": "1.2.0",
            "_model_name": "LayoutModel",
            "_view_count": null,
            "_view_module": "@jupyter-widgets/base",
            "_view_module_version": "1.2.0",
            "_view_name": "LayoutView",
            "align_content": null,
            "align_items": null,
            "align_self": null,
            "border": null,
            "bottom": null,
            "display": null,
            "flex": null,
            "flex_flow": null,
            "grid_area": null,
            "grid_auto_columns": null,
            "grid_auto_flow": null,
            "grid_auto_rows": null,
            "grid_column": null,
            "grid_gap": null,
            "grid_row": null,
            "grid_template_areas": null,
            "grid_template_columns": null,
            "grid_template_rows": null,
            "height": null,
            "justify_content": null,
            "justify_items": null,
            "left": null,
            "margin": null,
            "max_height": null,
            "max_width": null,
            "min_height": null,
            "min_width": null,
            "object_fit": null,
            "object_position": null,
            "order": null,
            "overflow": null,
            "overflow_x": null,
            "overflow_y": null,
            "padding": null,
            "right": null,
            "top": null,
            "visibility": null,
            "width": null
          }
        },
        "9131d913b2734e8ab4fe57cf8ea819f6": {
          "model_module": "@jupyter-widgets/controls",
          "model_name": "ProgressStyleModel",
          "model_module_version": "1.5.0",
          "state": {
            "_model_module": "@jupyter-widgets/controls",
            "_model_module_version": "1.5.0",
            "_model_name": "ProgressStyleModel",
            "_view_count": null,
            "_view_module": "@jupyter-widgets/base",
            "_view_module_version": "1.2.0",
            "_view_name": "StyleView",
            "bar_color": null,
            "description_width": ""
          }
        },
        "a4e0c3571e074f57a021d4ed19e60d7a": {
          "model_module": "@jupyter-widgets/base",
          "model_name": "LayoutModel",
          "model_module_version": "1.2.0",
          "state": {
            "_model_module": "@jupyter-widgets/base",
            "_model_module_version": "1.2.0",
            "_model_name": "LayoutModel",
            "_view_count": null,
            "_view_module": "@jupyter-widgets/base",
            "_view_module_version": "1.2.0",
            "_view_name": "LayoutView",
            "align_content": null,
            "align_items": null,
            "align_self": null,
            "border": null,
            "bottom": null,
            "display": null,
            "flex": null,
            "flex_flow": null,
            "grid_area": null,
            "grid_auto_columns": null,
            "grid_auto_flow": null,
            "grid_auto_rows": null,
            "grid_column": null,
            "grid_gap": null,
            "grid_row": null,
            "grid_template_areas": null,
            "grid_template_columns": null,
            "grid_template_rows": null,
            "height": null,
            "justify_content": null,
            "justify_items": null,
            "left": null,
            "margin": null,
            "max_height": null,
            "max_width": null,
            "min_height": null,
            "min_width": null,
            "object_fit": null,
            "object_position": null,
            "order": null,
            "overflow": null,
            "overflow_x": null,
            "overflow_y": null,
            "padding": null,
            "right": null,
            "top": null,
            "visibility": null,
            "width": null
          }
        },
        "496277d87210442ba26563370a9fac5b": {
          "model_module": "@jupyter-widgets/controls",
          "model_name": "DescriptionStyleModel",
          "model_module_version": "1.5.0",
          "state": {
            "_model_module": "@jupyter-widgets/controls",
            "_model_module_version": "1.5.0",
            "_model_name": "DescriptionStyleModel",
            "_view_count": null,
            "_view_module": "@jupyter-widgets/base",
            "_view_module_version": "1.2.0",
            "_view_name": "StyleView",
            "description_width": ""
          }
        },
        "f54ac74c747e48ce8b5c0ccb16b0aed9": {
          "model_module": "@jupyter-widgets/controls",
          "model_name": "HBoxModel",
          "model_module_version": "1.5.0",
          "state": {
            "_dom_classes": [],
            "_model_module": "@jupyter-widgets/controls",
            "_model_module_version": "1.5.0",
            "_model_name": "HBoxModel",
            "_view_count": null,
            "_view_module": "@jupyter-widgets/controls",
            "_view_module_version": "1.5.0",
            "_view_name": "HBoxView",
            "box_style": "",
            "children": [
              "IPY_MODEL_d5714764ba5c4f67967c38e9313dd157",
              "IPY_MODEL_7c284388da794722a8c2ffb6221d06d4",
              "IPY_MODEL_124d4f783cd9450da59c448598bc378a"
            ],
            "layout": "IPY_MODEL_a7546442976d45a2b39e5b908ccd9544"
          }
        },
        "d5714764ba5c4f67967c38e9313dd157": {
          "model_module": "@jupyter-widgets/controls",
          "model_name": "HTMLModel",
          "model_module_version": "1.5.0",
          "state": {
            "_dom_classes": [],
            "_model_module": "@jupyter-widgets/controls",
            "_model_module_version": "1.5.0",
            "_model_name": "HTMLModel",
            "_view_count": null,
            "_view_module": "@jupyter-widgets/controls",
            "_view_module_version": "1.5.0",
            "_view_name": "HTMLView",
            "description": "",
            "description_tooltip": null,
            "layout": "IPY_MODEL_4dd15c97ba1c4ec8baf03396f28cd39f",
            "placeholder": "​",
            "style": "IPY_MODEL_9e507e9074ea4aa4b7450ba52a0543dc",
            "value": "Downloading (…)/main/tokenizer.json: 100%"
          }
        },
        "7c284388da794722a8c2ffb6221d06d4": {
          "model_module": "@jupyter-widgets/controls",
          "model_name": "FloatProgressModel",
          "model_module_version": "1.5.0",
          "state": {
            "_dom_classes": [],
            "_model_module": "@jupyter-widgets/controls",
            "_model_module_version": "1.5.0",
            "_model_name": "FloatProgressModel",
            "_view_count": null,
            "_view_module": "@jupyter-widgets/controls",
            "_view_module_version": "1.5.0",
            "_view_name": "ProgressView",
            "bar_style": "success",
            "description": "",
            "description_tooltip": null,
            "layout": "IPY_MODEL_be76a8a13fa14141aa01ee05f15eb6dc",
            "max": 466062,
            "min": 0,
            "orientation": "horizontal",
            "style": "IPY_MODEL_d3a290b27811481dab637795c0541046",
            "value": 466062
          }
        },
        "124d4f783cd9450da59c448598bc378a": {
          "model_module": "@jupyter-widgets/controls",
          "model_name": "HTMLModel",
          "model_module_version": "1.5.0",
          "state": {
            "_dom_classes": [],
            "_model_module": "@jupyter-widgets/controls",
            "_model_module_version": "1.5.0",
            "_model_name": "HTMLModel",
            "_view_count": null,
            "_view_module": "@jupyter-widgets/controls",
            "_view_module_version": "1.5.0",
            "_view_name": "HTMLView",
            "description": "",
            "description_tooltip": null,
            "layout": "IPY_MODEL_c44ca0f5938840e4914ee5b4481e0a9d",
            "placeholder": "​",
            "style": "IPY_MODEL_e2afc4f271214c2c865ab676d239558e",
            "value": " 466k/466k [00:00&lt;00:00, 2.49MB/s]"
          }
        },
        "a7546442976d45a2b39e5b908ccd9544": {
          "model_module": "@jupyter-widgets/base",
          "model_name": "LayoutModel",
          "model_module_version": "1.2.0",
          "state": {
            "_model_module": "@jupyter-widgets/base",
            "_model_module_version": "1.2.0",
            "_model_name": "LayoutModel",
            "_view_count": null,
            "_view_module": "@jupyter-widgets/base",
            "_view_module_version": "1.2.0",
            "_view_name": "LayoutView",
            "align_content": null,
            "align_items": null,
            "align_self": null,
            "border": null,
            "bottom": null,
            "display": null,
            "flex": null,
            "flex_flow": null,
            "grid_area": null,
            "grid_auto_columns": null,
            "grid_auto_flow": null,
            "grid_auto_rows": null,
            "grid_column": null,
            "grid_gap": null,
            "grid_row": null,
            "grid_template_areas": null,
            "grid_template_columns": null,
            "grid_template_rows": null,
            "height": null,
            "justify_content": null,
            "justify_items": null,
            "left": null,
            "margin": null,
            "max_height": null,
            "max_width": null,
            "min_height": null,
            "min_width": null,
            "object_fit": null,
            "object_position": null,
            "order": null,
            "overflow": null,
            "overflow_x": null,
            "overflow_y": null,
            "padding": null,
            "right": null,
            "top": null,
            "visibility": null,
            "width": null
          }
        },
        "4dd15c97ba1c4ec8baf03396f28cd39f": {
          "model_module": "@jupyter-widgets/base",
          "model_name": "LayoutModel",
          "model_module_version": "1.2.0",
          "state": {
            "_model_module": "@jupyter-widgets/base",
            "_model_module_version": "1.2.0",
            "_model_name": "LayoutModel",
            "_view_count": null,
            "_view_module": "@jupyter-widgets/base",
            "_view_module_version": "1.2.0",
            "_view_name": "LayoutView",
            "align_content": null,
            "align_items": null,
            "align_self": null,
            "border": null,
            "bottom": null,
            "display": null,
            "flex": null,
            "flex_flow": null,
            "grid_area": null,
            "grid_auto_columns": null,
            "grid_auto_flow": null,
            "grid_auto_rows": null,
            "grid_column": null,
            "grid_gap": null,
            "grid_row": null,
            "grid_template_areas": null,
            "grid_template_columns": null,
            "grid_template_rows": null,
            "height": null,
            "justify_content": null,
            "justify_items": null,
            "left": null,
            "margin": null,
            "max_height": null,
            "max_width": null,
            "min_height": null,
            "min_width": null,
            "object_fit": null,
            "object_position": null,
            "order": null,
            "overflow": null,
            "overflow_x": null,
            "overflow_y": null,
            "padding": null,
            "right": null,
            "top": null,
            "visibility": null,
            "width": null
          }
        },
        "9e507e9074ea4aa4b7450ba52a0543dc": {
          "model_module": "@jupyter-widgets/controls",
          "model_name": "DescriptionStyleModel",
          "model_module_version": "1.5.0",
          "state": {
            "_model_module": "@jupyter-widgets/controls",
            "_model_module_version": "1.5.0",
            "_model_name": "DescriptionStyleModel",
            "_view_count": null,
            "_view_module": "@jupyter-widgets/base",
            "_view_module_version": "1.2.0",
            "_view_name": "StyleView",
            "description_width": ""
          }
        },
        "be76a8a13fa14141aa01ee05f15eb6dc": {
          "model_module": "@jupyter-widgets/base",
          "model_name": "LayoutModel",
          "model_module_version": "1.2.0",
          "state": {
            "_model_module": "@jupyter-widgets/base",
            "_model_module_version": "1.2.0",
            "_model_name": "LayoutModel",
            "_view_count": null,
            "_view_module": "@jupyter-widgets/base",
            "_view_module_version": "1.2.0",
            "_view_name": "LayoutView",
            "align_content": null,
            "align_items": null,
            "align_self": null,
            "border": null,
            "bottom": null,
            "display": null,
            "flex": null,
            "flex_flow": null,
            "grid_area": null,
            "grid_auto_columns": null,
            "grid_auto_flow": null,
            "grid_auto_rows": null,
            "grid_column": null,
            "grid_gap": null,
            "grid_row": null,
            "grid_template_areas": null,
            "grid_template_columns": null,
            "grid_template_rows": null,
            "height": null,
            "justify_content": null,
            "justify_items": null,
            "left": null,
            "margin": null,
            "max_height": null,
            "max_width": null,
            "min_height": null,
            "min_width": null,
            "object_fit": null,
            "object_position": null,
            "order": null,
            "overflow": null,
            "overflow_x": null,
            "overflow_y": null,
            "padding": null,
            "right": null,
            "top": null,
            "visibility": null,
            "width": null
          }
        },
        "d3a290b27811481dab637795c0541046": {
          "model_module": "@jupyter-widgets/controls",
          "model_name": "ProgressStyleModel",
          "model_module_version": "1.5.0",
          "state": {
            "_model_module": "@jupyter-widgets/controls",
            "_model_module_version": "1.5.0",
            "_model_name": "ProgressStyleModel",
            "_view_count": null,
            "_view_module": "@jupyter-widgets/base",
            "_view_module_version": "1.2.0",
            "_view_name": "StyleView",
            "bar_color": null,
            "description_width": ""
          }
        },
        "c44ca0f5938840e4914ee5b4481e0a9d": {
          "model_module": "@jupyter-widgets/base",
          "model_name": "LayoutModel",
          "model_module_version": "1.2.0",
          "state": {
            "_model_module": "@jupyter-widgets/base",
            "_model_module_version": "1.2.0",
            "_model_name": "LayoutModel",
            "_view_count": null,
            "_view_module": "@jupyter-widgets/base",
            "_view_module_version": "1.2.0",
            "_view_name": "LayoutView",
            "align_content": null,
            "align_items": null,
            "align_self": null,
            "border": null,
            "bottom": null,
            "display": null,
            "flex": null,
            "flex_flow": null,
            "grid_area": null,
            "grid_auto_columns": null,
            "grid_auto_flow": null,
            "grid_auto_rows": null,
            "grid_column": null,
            "grid_gap": null,
            "grid_row": null,
            "grid_template_areas": null,
            "grid_template_columns": null,
            "grid_template_rows": null,
            "height": null,
            "justify_content": null,
            "justify_items": null,
            "left": null,
            "margin": null,
            "max_height": null,
            "max_width": null,
            "min_height": null,
            "min_width": null,
            "object_fit": null,
            "object_position": null,
            "order": null,
            "overflow": null,
            "overflow_x": null,
            "overflow_y": null,
            "padding": null,
            "right": null,
            "top": null,
            "visibility": null,
            "width": null
          }
        },
        "e2afc4f271214c2c865ab676d239558e": {
          "model_module": "@jupyter-widgets/controls",
          "model_name": "DescriptionStyleModel",
          "model_module_version": "1.5.0",
          "state": {
            "_model_module": "@jupyter-widgets/controls",
            "_model_module_version": "1.5.0",
            "_model_name": "DescriptionStyleModel",
            "_view_count": null,
            "_view_module": "@jupyter-widgets/base",
            "_view_module_version": "1.2.0",
            "_view_name": "StyleView",
            "description_width": ""
          }
        }
      }
    },
    "accelerator": "GPU"
  },
  "nbformat": 4,
  "nbformat_minor": 0
}